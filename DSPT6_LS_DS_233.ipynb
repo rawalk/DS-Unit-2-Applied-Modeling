{
  "nbformat": 4,
  "nbformat_minor": 0,
  "metadata": {
    "kernelspec": {
      "display_name": "Python 3",
      "language": "python",
      "name": "python3"
    },
    "language_info": {
      "codemirror_mode": {
        "name": "ipython",
        "version": 3
      },
      "file_extension": ".py",
      "mimetype": "text/x-python",
      "name": "python",
      "nbconvert_exporter": "python",
      "pygments_lexer": "ipython3",
      "version": "3.7.6"
    },
    "colab": {
      "name": "DSPT6_LS_DS_233.ipynb",
      "provenance": [],
      "collapsed_sections": [],
      "include_colab_link": true
    }
  },
  "cells": [
    {
      "cell_type": "markdown",
      "metadata": {
        "id": "view-in-github",
        "colab_type": "text"
      },
      "source": [
        "<a href=\"https://colab.research.google.com/github/rawalk/DS-Unit-2-Applied-Modeling/blob/master/DSPT6_LS_DS_233.ipynb\" target=\"_parent\"><img src=\"https://colab.research.google.com/assets/colab-badge.svg\" alt=\"Open In Colab\"/></a>"
      ]
    },
    {
      "cell_type": "markdown",
      "metadata": {
        "colab_type": "text",
        "id": "U2ha9OWxf0jw"
      },
      "source": [
        "Lambda School Data Science\n",
        "\n",
        "*Unit 2, Sprint 3, Module 3*\n",
        "\n",
        "---"
      ]
    },
    {
      "cell_type": "markdown",
      "metadata": {
        "colab_type": "text",
        "id": "-hTictxWYih7"
      },
      "source": [
        "# Permutation & Boosting\n",
        "\n",
        "- Get **permutation importances** for model interpretation and feature selection\n",
        "- Use xgboost for **gradient boosting**"
      ]
    },
    {
      "cell_type": "markdown",
      "metadata": {
        "colab_type": "text",
        "id": "wMejJg0w8v76"
      },
      "source": [
        "### Setup\n",
        "\n",
        "Run the code cell below. You can work locally (follow the [local setup instructions](https://lambdaschool.github.io/ds/unit2/local/)) or on Colab.\n",
        "\n",
        "Libraries:\n",
        "\n",
        "- category_encoders\n",
        "- [**eli5**](https://eli5.readthedocs.io/en/latest/)\n",
        "- matplotlib\n",
        "- numpy\n",
        "- pandas\n",
        "- scikit-learn\n",
        "- [**xgboost**](https://xgboost.readthedocs.io/en/latest/)"
      ]
    },
    {
      "cell_type": "code",
      "metadata": {
        "colab_type": "code",
        "id": "BFQMky3CYih-",
        "colab": {}
      },
      "source": [
        "%%capture\n",
        "import sys\n",
        "\n",
        "# If you're on Colab:\n",
        "if 'google.colab' in sys.modules:\n",
        "    DATA_PATH = 'https://raw.githubusercontent.com/LambdaSchool/DS-Unit-2-Applied-Modeling/master/data/'\n",
        "    !pip install category_encoders==2.*\n",
        "    !pip install eli5\n",
        "\n",
        "# If you're working locally:\n",
        "else:\n",
        "    DATA_PATH = '../data/'"
      ],
      "execution_count": 0,
      "outputs": []
    },
    {
      "cell_type": "markdown",
      "metadata": {
        "id": "YxSa9a0NZhKf",
        "colab_type": "text"
      },
      "source": [
        "We'll go back to Tanzania Waterpumps for this lesson."
      ]
    },
    {
      "cell_type": "code",
      "metadata": {
        "colab_type": "code",
        "id": "z-TExplb_Slf",
        "colab": {}
      },
      "source": [
        "import numpy as np\n",
        "import pandas as pd\n",
        "from sklearn.model_selection import train_test_split\n",
        "\n",
        "# Merge train_features.csv & train_labels.csv\n",
        "train = pd.merge(pd.read_csv(DATA_PATH+'waterpumps/train_features.csv'), \n",
        "                 pd.read_csv(DATA_PATH+'waterpumps/train_labels.csv'))\n",
        "\n",
        "# Read test_features.csv & sample_submission.csv\n",
        "test = pd.read_csv(DATA_PATH+'waterpumps/test_features.csv')\n",
        "sample_submission = pd.read_csv(DATA_PATH+'waterpumps/sample_submission.csv')\n",
        "\n",
        "\n",
        "# Split train into train & val\n",
        "train, val = train_test_split(train, train_size=0.80, test_size=0.20, \n",
        "                              stratify=train['status_group'], random_state=42)\n",
        "\n",
        "\n",
        "def wrangle(X):\n",
        "    \"\"\"Wrangle train, validate, and test sets in the same way\"\"\"\n",
        "    \n",
        "    # Prevent SettingWithCopyWarning\n",
        "    X = X.copy()\n",
        "    \n",
        "    # About 3% of the time, latitude has small values near zero,\n",
        "    # outside Tanzania, so we'll treat these values like zero.\n",
        "    X['latitude'] = X['latitude'].replace(-2e-08, 0)\n",
        "    \n",
        "    # When columns have zeros and shouldn't, they are like null values.\n",
        "    # So we will replace the zeros with nulls, and impute missing values later.\n",
        "    # Also create a \"missing indicator\" column, because the fact that\n",
        "    # values are missing may be a predictive signal.\n",
        "    cols_with_zeros = ['longitude', 'latitude', 'construction_year', \n",
        "                       'gps_height', 'population']\n",
        "    for col in cols_with_zeros:\n",
        "        X[col] = X[col].replace(0, np.nan)\n",
        "        X[col+'_MISSING'] = X[col].isnull()\n",
        "            \n",
        "    # Drop duplicate columns\n",
        "    duplicates = ['quantity_group', 'payment_type']\n",
        "    X = X.drop(columns=duplicates)\n",
        "    \n",
        "    # Drop recorded_by (never varies) and id (always varies, random)\n",
        "    unusable_variance = ['recorded_by', 'id']\n",
        "    X = X.drop(columns=unusable_variance)\n",
        "    \n",
        "    # Convert date_recorded to datetime\n",
        "    X['date_recorded'] = pd.to_datetime(X['date_recorded'], infer_datetime_format=True)\n",
        "    \n",
        "    # Extract components from date_recorded, then drop the original column\n",
        "    X['year_recorded'] = X['date_recorded'].dt.year\n",
        "    X['month_recorded'] = X['date_recorded'].dt.month\n",
        "    X['day_recorded'] = X['date_recorded'].dt.day\n",
        "    X = X.drop(columns='date_recorded')\n",
        "    \n",
        "    # Engineer feature: how many years from construction_year to date_recorded\n",
        "    X['years'] = X['year_recorded'] - X['construction_year']\n",
        "    X['years_MISSING'] = X['years'].isnull()\n",
        "    \n",
        "    # return the wrangled dataframe\n",
        "    return X\n",
        "\n",
        "train = wrangle(train)\n",
        "val = wrangle(val)\n",
        "test = wrangle(test)"
      ],
      "execution_count": 0,
      "outputs": []
    },
    {
      "cell_type": "code",
      "metadata": {
        "colab_type": "code",
        "id": "rhg8PQKt_jzP",
        "colab": {}
      },
      "source": [
        "# Arrange data into X features matrix and y target vector\n",
        "target = 'status_group'\n",
        "X_train = train.drop(columns=target)\n",
        "y_train = train[target]\n",
        "X_val = val.drop(columns=target)\n",
        "y_val = val[target]\n",
        "X_test = test"
      ],
      "execution_count": 0,
      "outputs": []
    },
    {
      "cell_type": "code",
      "metadata": {
        "colab_type": "code",
        "id": "m8lB4z5l_eml",
        "outputId": "af3448fe-b508-4cb0-b193-1dcb82aa9970",
        "colab": {
          "base_uri": "https://localhost:8080/",
          "height": 92
        }
      },
      "source": [
        "import category_encoders as ce\n",
        "from sklearn.impute import SimpleImputer\n",
        "from sklearn.ensemble import RandomForestClassifier\n",
        "from sklearn.model_selection import train_test_split\n",
        "from sklearn.pipeline import make_pipeline\n",
        "\n",
        "pipeline = make_pipeline(\n",
        "    ce.OrdinalEncoder(), \n",
        "    SimpleImputer(strategy='median'), \n",
        "    RandomForestClassifier(n_estimators=100, random_state=42, n_jobs=-1)\n",
        ")\n",
        "\n",
        "# Fit on train, score on val\n",
        "pipeline.fit(X_train, y_train)\n",
        "print('Validation Accuracy', pipeline.score(X_val, y_val))"
      ],
      "execution_count": 0,
      "outputs": [
        {
          "output_type": "stream",
          "text": [
            "/usr/local/lib/python3.6/dist-packages/statsmodels/tools/_testing.py:19: FutureWarning: pandas.util.testing is deprecated. Use the functions in the public API at pandas.testing instead.\n",
            "  import pandas.util.testing as tm\n"
          ],
          "name": "stderr"
        },
        {
          "output_type": "stream",
          "text": [
            "Validation Accuracy 0.8135521885521886\n"
          ],
          "name": "stdout"
        }
      ]
    },
    {
      "cell_type": "markdown",
      "metadata": {
        "id": "SDY8QFl_ZhKv",
        "colab_type": "text"
      },
      "source": [
        "# Get permutation importances for model interpretation and feature selection"
      ]
    },
    {
      "cell_type": "markdown",
      "metadata": {
        "id": "6xwqTy-KZhKw",
        "colab_type": "text"
      },
      "source": [
        "## Overview"
      ]
    },
    {
      "cell_type": "markdown",
      "metadata": {
        "id": "SZUpgjoXZhKx",
        "colab_type": "text"
      },
      "source": [
        "Default Feature Importances are fast, but Permutation Importances may be more accurate.\n",
        "\n",
        "These links go deeper with explanations and examples:\n",
        "\n",
        "- Permutation Importances\n",
        "  - [Kaggle / Dan Becker: Machine Learning Explainability](https://www.kaggle.com/dansbecker/permutation-importance)\n",
        "  - [Christoph Molnar: Interpretable Machine Learning](https://christophm.github.io/interpretable-ml-book/feature-importance.html)\n",
        "- (Default) Feature Importances\n",
        "  - [Ando Saabas: Selecting good features, Part 3, Random Forests](https://blog.datadive.net/selecting-good-features-part-iii-random-forests/)\n",
        "  - [Terence Parr, et al: Beware Default Random Forest Importances](https://explained.ai/rf-importance/index.html)"
      ]
    },
    {
      "cell_type": "markdown",
      "metadata": {
        "colab_type": "text",
        "id": "7HOayKBOYiit"
      },
      "source": [
        "There are three types of feature importances:"
      ]
    },
    {
      "cell_type": "markdown",
      "metadata": {
        "colab_type": "text",
        "id": "4bRhsxENYiiu"
      },
      "source": [
        "### 1. (Default) Feature Importances\n",
        "\n",
        "Fastest, good for first estimates, but be aware:\n",
        "\n",
        "\n",
        "\n",
        ">**When the dataset has two (or more) correlated features, then from the point of view of the model, any of these correlated features can be used as the predictor, with no concrete preference of one over the others.** But once one of them is used, the importance of others is significantly reduced since effectively the impurity they can remove is already removed by the first feature. As a consequence, they will have a lower reported importance. This is not an issue when we want to use feature selection to reduce overfitting, since it makes sense to remove features that are mostly duplicated by other features. But when interpreting the data, it can lead to the incorrect conclusion that one of the variables is a strong predictor while the others in the same group are unimportant, while actually they are very close in terms of their relationship with the response variable. — [Selecting good features – Part III: random forests](https://blog.datadive.net/selecting-good-features-part-iii-random-forests/) \n",
        "\n",
        "\n",
        " \n",
        " > **The scikit-learn Random Forest feature importance ... tends to inflate the importance of continuous or high-cardinality categorical variables.** ... Breiman and Cutler, the inventors of Random Forests, indicate that this method of “adding up the gini decreases for each individual variable over all trees in the forest gives a **fast** variable importance that is often very consistent with the permutation importance measure.” —  [Beware Default Random Forest Importances](https://explained.ai/rf-importance/index.html)\n",
        "\n",
        " \n"
      ]
    },
    {
      "cell_type": "code",
      "metadata": {
        "colab_type": "code",
        "id": "BNVm6f7mYiiu",
        "outputId": "58a46793-8d9b-427f-e891-f4610491cf99",
        "colab": {
          "base_uri": "https://localhost:8080/",
          "height": 1000
        }
      },
      "source": [
        "# Get feature importances\n",
        "rf = pipeline.named_steps['randomforestclassifier']\n",
        "importances = pd.Series(rf.feature_importances_, X_train.columns)\n",
        "\n",
        "# Plot feature importances\n",
        "%matplotlib inline\n",
        "import matplotlib.pyplot as plt\n",
        "\n",
        "n = 40\n",
        "plt.figure(figsize=(10,n/2))\n",
        "plt.title(f'Top {n} features')\n",
        "importances.sort_values()[-n:].plot.barh(color='grey');"
      ],
      "execution_count": 0,
      "outputs": [
        {
          "output_type": "display_data",
          "data": {
            "image/png": "[encoded data removed]",
            "text/plain": [
              "<Figure size 720x1440 with 1 Axes>"
            ]
          },
          "metadata": {
            "tags": [],
            "needs_background": "light"
          }
        }
      ]
    },
    {
      "cell_type": "markdown",
      "metadata": {
        "colab_type": "text",
        "id": "y8HzLcCBYiiv"
      },
      "source": [
        "### 2. Drop-Column Importance\n",
        "\n",
        "The best in theory, but too slow in practice"
      ]
    },
    {
      "cell_type": "code",
      "metadata": {
        "id": "AEeU5AR6wOQW",
        "colab_type": "code",
        "outputId": "a85b38bc-96e4-4258-eb63-c3ac36160b48",
        "colab": {
          "base_uri": "https://localhost:8080/",
          "height": 35
        }
      },
      "source": [
        "X_train.shape"
      ],
      "execution_count": 0,
      "outputs": [
        {
          "output_type": "execute_result",
          "data": {
            "text/plain": [
              "(47520, 45)"
            ]
          },
          "metadata": {
            "tags": []
          },
          "execution_count": 8
        }
      ]
    },
    {
      "cell_type": "code",
      "metadata": {
        "colab_type": "code",
        "id": "DQAOlERnYiiw",
        "outputId": "aa3444fc-7f1a-4da2-846f-576eaab07cbe",
        "colab": {
          "base_uri": "https://localhost:8080/",
          "height": 72
        }
      },
      "source": [
        "column  = 'quantity'\n",
        "\n",
        "# Fit without column\n",
        "pipeline = make_pipeline(\n",
        "    ce.OrdinalEncoder(), \n",
        "    SimpleImputer(strategy='median'), \n",
        "    RandomForestClassifier(n_estimators=100, random_state=42, n_jobs=-1)\n",
        ")\n",
        "pipeline.fit(X_train.drop(columns=column), y_train)\n",
        "score_without = pipeline.score(X_val.drop(columns=column), y_val)\n",
        "print(f'Validation Accuracy without {column}: {score_without}')\n",
        "\n",
        "# Fit with column\n",
        "pipeline = make_pipeline(\n",
        "    ce.OrdinalEncoder(), \n",
        "    SimpleImputer(strategy='median'), \n",
        "    RandomForestClassifier(n_estimators=100, random_state=42, n_jobs=-1)\n",
        ")\n",
        "pipeline.fit(X_train, y_train)\n",
        "score_with = pipeline.score(X_val, y_val)\n",
        "print(f'Validation Accuracy with {column}: {score_with}')\n",
        "\n",
        "# Compare the error with & without column\n",
        "print(f'Drop-Column Importance for {column}: {score_with - score_without}')"
      ],
      "execution_count": 0,
      "outputs": [
        {
          "output_type": "stream",
          "text": [
            "Validation Accuracy without quantity: 0.7771043771043771\n",
            "Validation Accuracy with quantity: 0.8135521885521886\n",
            "Drop-Column Importance for quantity: 0.03644781144781151\n"
          ],
          "name": "stdout"
        }
      ]
    },
    {
      "cell_type": "markdown",
      "metadata": {
        "colab_type": "text",
        "id": "6Vu39wGkYiix"
      },
      "source": [
        "### 3. Permutation Importance\n",
        "\n",
        "Permutation Importance is a good compromise between Feature Importance based on impurity reduction (which is the fastest) and Drop Column Importance (which is the \"best.\")\n",
        "\n",
        "[The ELI5 library documentation explains,](https://eli5.readthedocs.io/en/latest/blackbox/permutation_importance.html)\n",
        "\n",
        "> Importance can be measured by looking at how much the score (accuracy, F1, R^2, etc. - any score we’re interested in) decreases when a feature is not available.\n",
        ">\n",
        "> To do that one can remove feature from the dataset, re-train the estimator and check the score. But it requires re-training an estimator for each feature, which can be computationally intensive. ...\n",
        ">\n",
        ">To avoid re-training the estimator we can remove a feature only from the test part of the dataset, and compute score without using this feature. It doesn’t work as-is, because estimators expect feature to be present. So instead of removing a feature we can replace it with random noise - feature column is still there, but it no longer contains useful information. This method works if noise is drawn from the same distribution as original feature values (as otherwise estimator may fail). The simplest way to get such noise is to shuffle values for a feature, i.e. use other examples’ feature values - this is how permutation importance is computed.\n",
        ">\n",
        ">The method is most suitable for computing feature importances when a number of columns (features) is not huge; it can be resource-intensive otherwise."
      ]
    },
    {
      "cell_type": "markdown",
      "metadata": {
        "colab_type": "text",
        "id": "GYCiEx7zYiiy"
      },
      "source": [
        "### Do-It-Yourself way, for intuition"
      ]
    },
    {
      "cell_type": "code",
      "metadata": {
        "colab_type": "code",
        "id": "TksOf_n2Yiiy",
        "outputId": "8ab8aee4-6387-4d64-eec2-7d39177d07f2",
        "colab": {
          "base_uri": "https://localhost:8080/",
          "height": 127
        }
      },
      "source": [
        "# Before: sequence of the feature to be permuted\n",
        "feature = 'quantity'\n",
        "X_val[feature].head()"
      ],
      "execution_count": 0,
      "outputs": [
        {
          "output_type": "execute_result",
          "data": {
            "text/plain": [
              "3290     insufficient\n",
              "47666    insufficient\n",
              "2538           enough\n",
              "53117          enough\n",
              "51817          enough\n",
              "Name: quantity, dtype: object"
            ]
          },
          "metadata": {
            "tags": []
          },
          "execution_count": 10
        }
      ]
    },
    {
      "cell_type": "code",
      "metadata": {
        "id": "j6UQOpceyB0F",
        "colab_type": "code",
        "outputId": "754fa924-f031-435c-8b42-beac911605fd",
        "colab": {
          "base_uri": "https://localhost:8080/",
          "height": 127
        }
      },
      "source": [
        "# Before: distribution of the feature to be permuted\n",
        "X_val[feature].value_counts()"
      ],
      "execution_count": 0,
      "outputs": [
        {
          "output_type": "execute_result",
          "data": {
            "text/plain": [
              "enough          6619\n",
              "insufficient    2976\n",
              "dry             1325\n",
              "seasonal         806\n",
              "unknown          154\n",
              "Name: quantity, dtype: int64"
            ]
          },
          "metadata": {
            "tags": []
          },
          "execution_count": 11
        }
      ]
    },
    {
      "cell_type": "code",
      "metadata": {
        "id": "3R9jYfxByB3F",
        "colab_type": "code",
        "colab": {}
      },
      "source": [
        "# Permute!\n",
        "\n",
        "X_val_permuted = X_val.copy()\n",
        "X_val_permuted[feature] = np.random.permutation(X_val[feature])"
      ],
      "execution_count": 0,
      "outputs": []
    },
    {
      "cell_type": "code",
      "metadata": {
        "id": "n4ZEnJiyyB6i",
        "colab_type": "code",
        "outputId": "0a64c62a-05ce-492f-b0f5-baa88d8001f8",
        "colab": {
          "base_uri": "https://localhost:8080/",
          "height": 127
        }
      },
      "source": [
        "# After: Sequence has changed\n",
        "X_val_permuted[feature].head()"
      ],
      "execution_count": 0,
      "outputs": [
        {
          "output_type": "execute_result",
          "data": {
            "text/plain": [
              "3290     insufficient\n",
              "47666             dry\n",
              "2538           enough\n",
              "53117             dry\n",
              "51817          enough\n",
              "Name: quantity, dtype: object"
            ]
          },
          "metadata": {
            "tags": []
          },
          "execution_count": 13
        }
      ]
    },
    {
      "cell_type": "code",
      "metadata": {
        "id": "Zjx0BWlfyCCR",
        "colab_type": "code",
        "outputId": "dfed3e7b-f17d-41eb-f210-32fdedf541d8",
        "colab": {
          "base_uri": "https://localhost:8080/",
          "height": 127
        }
      },
      "source": [
        "# After: distribution hasn't changed\n",
        "X_val_permuted[feature].value_counts()"
      ],
      "execution_count": 0,
      "outputs": [
        {
          "output_type": "execute_result",
          "data": {
            "text/plain": [
              "enough          6619\n",
              "insufficient    2976\n",
              "dry             1325\n",
              "seasonal         806\n",
              "unknown          154\n",
              "Name: quantity, dtype: int64"
            ]
          },
          "metadata": {
            "tags": []
          },
          "execution_count": 14
        }
      ]
    },
    {
      "cell_type": "code",
      "metadata": {
        "id": "4nYRxu60zDgY",
        "colab_type": "code",
        "outputId": "b814cd90-13dd-48e6-d0af-026136a6f4f1",
        "colab": {
          "base_uri": "https://localhost:8080/",
          "height": 35
        }
      },
      "source": [
        "X_val_permuted.shape"
      ],
      "execution_count": 0,
      "outputs": [
        {
          "output_type": "execute_result",
          "data": {
            "text/plain": [
              "(11880, 45)"
            ]
          },
          "metadata": {
            "tags": []
          },
          "execution_count": 15
        }
      ]
    },
    {
      "cell_type": "code",
      "metadata": {
        "id": "FUgzkx5ZzJyf",
        "colab_type": "code",
        "outputId": "51ff1e8f-662b-4e50-b8c7-26dea6b7f429",
        "colab": {
          "base_uri": "https://localhost:8080/",
          "height": 72
        }
      },
      "source": [
        "score_permuted = pipeline.score(X_val_permuted, y_val)\n",
        "\n",
        "print(f'Validation accuracy with feature {feature}: {score_with}')\n",
        "print(f'Validation accuracy with feature {feature} permuted: {score_permuted}')\n",
        "print(f'Permutation importance of feature {feature}: {score_with - score_permuted}')"
      ],
      "execution_count": 0,
      "outputs": [
        {
          "output_type": "stream",
          "text": [
            "Validation accuracy with feature quantity: 0.8135521885521886\n",
            "Validation accuracy with feature quantity permuted: 0.7152356902356902\n",
            "Permutation importance of feature quantity: 0.09831649831649836\n"
          ],
          "name": "stdout"
        }
      ]
    },
    {
      "cell_type": "markdown",
      "metadata": {
        "colab_type": "text",
        "id": "0LYk19SNYii7"
      },
      "source": [
        "### With eli5 library\n",
        "\n",
        "For more documentation on using this library, see:\n",
        "- [eli5.sklearn.PermutationImportance](https://eli5.readthedocs.io/en/latest/autodocs/sklearn.html#eli5.sklearn.permutation_importance.PermutationImportance)\n",
        "- [eli5.show_weights](https://eli5.readthedocs.io/en/latest/autodocs/eli5.html#eli5.show_weights)\n",
        "- [scikit-learn user guide, `scoring` parameter](https://scikit-learn.org/stable/modules/model_evaluation.html#the-scoring-parameter-defining-model-evaluation-rules)\n",
        "\n",
        "eli5 doesn't work with pipelines."
      ]
    },
    {
      "cell_type": "code",
      "metadata": {
        "id": "_o868l_s2loa",
        "colab_type": "code",
        "outputId": "607413a7-e800-4c5d-a752-ea351257ab8f",
        "colab": {
          "base_uri": "https://localhost:8080/",
          "height": 164
        }
      },
      "source": [
        "transformers = make_pipeline(\n",
        "    ce.ordinal.OrdinalEncoder(),\n",
        "    SimpleImputer(strategy='median')\n",
        ")\n",
        "X_train_transformed = transformers.fit_transform(X_train)\n",
        "X_val_transformed = transformers.transform(X_val)\n",
        "\n",
        "model = RandomForestClassifier(n_estimators=100, random_state=42, n_jobs=-1)\n",
        "model.fit(X_train_transformed, y_train)"
      ],
      "execution_count": 0,
      "outputs": [
        {
          "output_type": "execute_result",
          "data": {
            "text/plain": [
              "RandomForestClassifier(bootstrap=True, ccp_alpha=0.0, class_weight=None,\n",
              "                       criterion='gini', max_depth=None, max_features='auto',\n",
              "                       max_leaf_nodes=None, max_samples=None,\n",
              "                       min_impurity_decrease=0.0, min_impurity_split=None,\n",
              "                       min_samples_leaf=1, min_samples_split=2,\n",
              "                       min_weight_fraction_leaf=0.0, n_estimators=100,\n",
              "                       n_jobs=-1, oob_score=False, random_state=42, verbose=0,\n",
              "                       warm_start=False)"
            ]
          },
          "metadata": {
            "tags": []
          },
          "execution_count": 21
        }
      ]
    },
    {
      "cell_type": "code",
      "metadata": {
        "colab_type": "code",
        "id": "hpSemTkFFP8i",
        "outputId": "eed9bf4e-d42d-4a2a-fcdb-f01d28994c2b",
        "colab": {
          "base_uri": "https://localhost:8080/",
          "height": 422
        }
      },
      "source": [
        "# Ignore warnings\n",
        "import eli5\n",
        "from eli5.sklearn import PermutationImportance\n",
        "\n",
        "permuter = PermutationImportance(\n",
        "    model,\n",
        "    scoring='accuracy',\n",
        "    random_state=42\n",
        ")\n",
        "\n",
        "permuter.fit(X_val_transformed, y_val)"
      ],
      "execution_count": 0,
      "outputs": [
        {
          "output_type": "execute_result",
          "data": {
            "text/plain": [
              "PermutationImportance(cv='prefit',\n",
              "                      estimator=RandomForestClassifier(bootstrap=True,\n",
              "                                                       ccp_alpha=0.0,\n",
              "                                                       class_weight=None,\n",
              "                                                       criterion='gini',\n",
              "                                                       max_depth=None,\n",
              "                                                       max_features='auto',\n",
              "                                                       max_leaf_nodes=None,\n",
              "                                                       max_samples=None,\n",
              "                                                       min_impurity_decrease=0.0,\n",
              "                                                       min_impurity_split=None,\n",
              "                                                       min_samples_leaf=1,\n",
              "                                                       min_samples_split=2,\n",
              "                                                       min_weight_fraction_leaf=0.0,\n",
              "                                                       n_estimators=100,\n",
              "                                                       n_jobs=-1,\n",
              "                                                       oob_score=False,\n",
              "                                                       random_state=42,\n",
              "                                                       verbose=0,\n",
              "                                                       warm_start=False),\n",
              "                      n_iter=5, random_state=42, refit=True,\n",
              "                      scoring='accuracy')"
            ]
          },
          "metadata": {
            "tags": []
          },
          "execution_count": 26
        }
      ]
    },
    {
      "cell_type": "code",
      "metadata": {
        "id": "0bXVBFuJ45LO",
        "colab_type": "code",
        "outputId": "78add88e-5c76-4d9d-bebe-5449104a8e04",
        "colab": {
          "base_uri": "https://localhost:8080/",
          "height": 863
        }
      },
      "source": [
        "feature_names = X_val.columns.tolist()\n",
        "pd.Series(permuter.feature_importances_, feature_names).sort_values()"
      ],
      "execution_count": 0,
      "outputs": [
        {
          "output_type": "execute_result",
          "data": {
            "text/plain": [
              "basin                       -0.001431\n",
              "quality_group               -0.000572\n",
              "management_group            -0.000488\n",
              "installer                   -0.000051\n",
              "source_type                 -0.000017\n",
              "construction_year_MISSING    0.000051\n",
              "gps_height_MISSING           0.000051\n",
              "latitude_MISSING             0.000135\n",
              "population_MISSING           0.000202\n",
              "year_recorded                0.000269\n",
              "source_class                 0.000337\n",
              "num_private                  0.000337\n",
              "management                   0.000455\n",
              "years_MISSING                0.000471\n",
              "extraction_type              0.000539\n",
              "water_quality                0.000539\n",
              "ward                         0.000539\n",
              "scheme_management            0.000657\n",
              "lga                          0.000724\n",
              "permit                       0.000774\n",
              "scheme_name                  0.000808\n",
              "longitude_MISSING            0.000875\n",
              "region_code                  0.000892\n",
              "region                       0.000926\n",
              "wpt_name                     0.000943\n",
              "month_recorded               0.001128\n",
              "funder                       0.001128\n",
              "day_recorded                 0.001498\n",
              "source                       0.001549\n",
              "gps_height                   0.001768\n",
              "extraction_type_group        0.001785\n",
              "district_code                0.002239\n",
              "construction_year            0.002609\n",
              "public_meeting               0.002963\n",
              "years                        0.002980\n",
              "subvillage                   0.003030\n",
              "payment                      0.003064\n",
              "latitude                     0.006246\n",
              "population                   0.006414\n",
              "waterpoint_type_group        0.006751\n",
              "longitude                    0.008838\n",
              "extraction_type_class        0.010168\n",
              "waterpoint_type              0.010354\n",
              "amount_tsh                   0.010758\n",
              "quantity                     0.101633\n",
              "dtype: float64"
            ]
          },
          "metadata": {
            "tags": []
          },
          "execution_count": 30
        }
      ]
    },
    {
      "cell_type": "code",
      "metadata": {
        "id": "nybTg0cK45Ve",
        "colab_type": "code",
        "outputId": "575d6b82-1d1e-417f-ca8d-9569da4a4c34",
        "colab": {
          "base_uri": "https://localhost:8080/",
          "height": 816
        }
      },
      "source": [
        "eli5.show_weights(permuter, top=None, feature_names=feature_names)"
      ],
      "execution_count": 0,
      "outputs": [
        {
          "output_type": "execute_result",
          "data": {
            "text/html": [
              "\n",
              "    <style>\n",
              "    table.eli5-weights tr:hover {\n",
              "        filter: brightness(85%);\n",
              "    }\n",
              "</style>\n",
              "\n",
              "\n",
              "\n",
              "    \n",
              "\n",
              "    \n",
              "\n",
              "    \n",
              "\n",
              "    \n",
              "\n",
              "    \n",
              "\n",
              "    \n",
              "\n",
              "\n",
              "    \n",
              "\n",
              "    \n",
              "\n",
              "    \n",
              "\n",
              "    \n",
              "\n",
              "    \n",
              "\n",
              "    \n",
              "\n",
              "\n",
              "    \n",
              "\n",
              "    \n",
              "\n",
              "    \n",
              "\n",
              "    \n",
              "\n",
              "    \n",
              "        <table class=\"eli5-weights eli5-feature-importances\" style=\"border-collapse: collapse; border: none; margin-top: 0em; table-layout: auto;\">\n",
              "    <thead>\n",
              "    <tr style=\"border: none;\">\n",
              "        <th style=\"padding: 0 1em 0 0.5em; text-align: right; border: none;\">Weight</th>\n",
              "        <th style=\"padding: 0 0.5em 0 0.5em; text-align: left; border: none;\">Feature</th>\n",
              "    </tr>\n",
              "    </thead>\n",
              "    <tbody>\n",
              "    \n",
              "        <tr style=\"background-color: hsl(120, 100.00%, 80.00%); border: none;\">\n",
              "            <td style=\"padding: 0 1em 0 0.5em; text-align: right; border: none;\">\n",
              "                0.1016\n",
              "                \n",
              "                    &plusmn; 0.0029\n",
              "                \n",
              "            </td>\n",
              "            <td style=\"padding: 0 0.5em 0 0.5em; text-align: left; border: none;\">\n",
              "                quantity\n",
              "            </td>\n",
              "        </tr>\n",
              "    \n",
              "        <tr style=\"background-color: hsl(120, 100.00%, 95.85%); border: none;\">\n",
              "            <td style=\"padding: 0 1em 0 0.5em; text-align: right; border: none;\">\n",
              "                0.0108\n",
              "                \n",
              "                    &plusmn; 0.0024\n",
              "                \n",
              "            </td>\n",
              "            <td style=\"padding: 0 0.5em 0 0.5em; text-align: left; border: none;\">\n",
              "                amount_tsh\n",
              "            </td>\n",
              "        </tr>\n",
              "    \n",
              "        <tr style=\"background-color: hsl(120, 100.00%, 95.96%); border: none;\">\n",
              "            <td style=\"padding: 0 1em 0 0.5em; text-align: right; border: none;\">\n",
              "                0.0104\n",
              "                \n",
              "                    &plusmn; 0.0018\n",
              "                \n",
              "            </td>\n",
              "            <td style=\"padding: 0 0.5em 0 0.5em; text-align: left; border: none;\">\n",
              "                waterpoint_type\n",
              "            </td>\n",
              "        </tr>\n",
              "    \n",
              "        <tr style=\"background-color: hsl(120, 100.00%, 96.01%); border: none;\">\n",
              "            <td style=\"padding: 0 1em 0 0.5em; text-align: right; border: none;\">\n",
              "                0.0102\n",
              "                \n",
              "                    &plusmn; 0.0015\n",
              "                \n",
              "            </td>\n",
              "            <td style=\"padding: 0 0.5em 0 0.5em; text-align: left; border: none;\">\n",
              "                extraction_type_class\n",
              "            </td>\n",
              "        </tr>\n",
              "    \n",
              "        <tr style=\"background-color: hsl(120, 100.00%, 96.38%); border: none;\">\n",
              "            <td style=\"padding: 0 1em 0 0.5em; text-align: right; border: none;\">\n",
              "                0.0088\n",
              "                \n",
              "                    &plusmn; 0.0015\n",
              "                \n",
              "            </td>\n",
              "            <td style=\"padding: 0 0.5em 0 0.5em; text-align: left; border: none;\">\n",
              "                longitude\n",
              "            </td>\n",
              "        </tr>\n",
              "    \n",
              "        <tr style=\"background-color: hsl(120, 100.00%, 97.00%); border: none;\">\n",
              "            <td style=\"padding: 0 1em 0 0.5em; text-align: right; border: none;\">\n",
              "                0.0068\n",
              "                \n",
              "                    &plusmn; 0.0018\n",
              "                \n",
              "            </td>\n",
              "            <td style=\"padding: 0 0.5em 0 0.5em; text-align: left; border: none;\">\n",
              "                waterpoint_type_group\n",
              "            </td>\n",
              "        </tr>\n",
              "    \n",
              "        <tr style=\"background-color: hsl(120, 100.00%, 97.11%); border: none;\">\n",
              "            <td style=\"padding: 0 1em 0 0.5em; text-align: right; border: none;\">\n",
              "                0.0064\n",
              "                \n",
              "                    &plusmn; 0.0008\n",
              "                \n",
              "            </td>\n",
              "            <td style=\"padding: 0 0.5em 0 0.5em; text-align: left; border: none;\">\n",
              "                population\n",
              "            </td>\n",
              "        </tr>\n",
              "    \n",
              "        <tr style=\"background-color: hsl(120, 100.00%, 97.16%); border: none;\">\n",
              "            <td style=\"padding: 0 1em 0 0.5em; text-align: right; border: none;\">\n",
              "                0.0062\n",
              "                \n",
              "                    &plusmn; 0.0026\n",
              "                \n",
              "            </td>\n",
              "            <td style=\"padding: 0 0.5em 0 0.5em; text-align: left; border: none;\">\n",
              "                latitude\n",
              "            </td>\n",
              "        </tr>\n",
              "    \n",
              "        <tr style=\"background-color: hsl(120, 100.00%, 98.28%); border: none;\">\n",
              "            <td style=\"padding: 0 1em 0 0.5em; text-align: right; border: none;\">\n",
              "                0.0031\n",
              "                \n",
              "                    &plusmn; 0.0010\n",
              "                \n",
              "            </td>\n",
              "            <td style=\"padding: 0 0.5em 0 0.5em; text-align: left; border: none;\">\n",
              "                payment\n",
              "            </td>\n",
              "        </tr>\n",
              "    \n",
              "        <tr style=\"background-color: hsl(120, 100.00%, 98.29%); border: none;\">\n",
              "            <td style=\"padding: 0 1em 0 0.5em; text-align: right; border: none;\">\n",
              "                0.0030\n",
              "                \n",
              "                    &plusmn; 0.0015\n",
              "                \n",
              "            </td>\n",
              "            <td style=\"padding: 0 0.5em 0 0.5em; text-align: left; border: none;\">\n",
              "                subvillage\n",
              "            </td>\n",
              "        </tr>\n",
              "    \n",
              "        <tr style=\"background-color: hsl(120, 100.00%, 98.31%); border: none;\">\n",
              "            <td style=\"padding: 0 1em 0 0.5em; text-align: right; border: none;\">\n",
              "                0.0030\n",
              "                \n",
              "                    &plusmn; 0.0026\n",
              "                \n",
              "            </td>\n",
              "            <td style=\"padding: 0 0.5em 0 0.5em; text-align: left; border: none;\">\n",
              "                years\n",
              "            </td>\n",
              "        </tr>\n",
              "    \n",
              "        <tr style=\"background-color: hsl(120, 100.00%, 98.32%); border: none;\">\n",
              "            <td style=\"padding: 0 1em 0 0.5em; text-align: right; border: none;\">\n",
              "                0.0030\n",
              "                \n",
              "                    &plusmn; 0.0011\n",
              "                \n",
              "            </td>\n",
              "            <td style=\"padding: 0 0.5em 0 0.5em; text-align: left; border: none;\">\n",
              "                public_meeting\n",
              "            </td>\n",
              "        </tr>\n",
              "    \n",
              "        <tr style=\"background-color: hsl(120, 100.00%, 98.46%); border: none;\">\n",
              "            <td style=\"padding: 0 1em 0 0.5em; text-align: right; border: none;\">\n",
              "                0.0026\n",
              "                \n",
              "                    &plusmn; 0.0029\n",
              "                \n",
              "            </td>\n",
              "            <td style=\"padding: 0 0.5em 0 0.5em; text-align: left; border: none;\">\n",
              "                construction_year\n",
              "            </td>\n",
              "        </tr>\n",
              "    \n",
              "        <tr style=\"background-color: hsl(120, 100.00%, 98.62%); border: none;\">\n",
              "            <td style=\"padding: 0 1em 0 0.5em; text-align: right; border: none;\">\n",
              "                0.0022\n",
              "                \n",
              "                    &plusmn; 0.0016\n",
              "                \n",
              "            </td>\n",
              "            <td style=\"padding: 0 0.5em 0 0.5em; text-align: left; border: none;\">\n",
              "                district_code\n",
              "            </td>\n",
              "        </tr>\n",
              "    \n",
              "        <tr style=\"background-color: hsl(120, 100.00%, 98.82%); border: none;\">\n",
              "            <td style=\"padding: 0 1em 0 0.5em; text-align: right; border: none;\">\n",
              "                0.0018\n",
              "                \n",
              "                    &plusmn; 0.0015\n",
              "                \n",
              "            </td>\n",
              "            <td style=\"padding: 0 0.5em 0 0.5em; text-align: left; border: none;\">\n",
              "                extraction_type_group\n",
              "            </td>\n",
              "        </tr>\n",
              "    \n",
              "        <tr style=\"background-color: hsl(120, 100.00%, 98.83%); border: none;\">\n",
              "            <td style=\"padding: 0 1em 0 0.5em; text-align: right; border: none;\">\n",
              "                0.0018\n",
              "                \n",
              "                    &plusmn; 0.0010\n",
              "                \n",
              "            </td>\n",
              "            <td style=\"padding: 0 0.5em 0 0.5em; text-align: left; border: none;\">\n",
              "                gps_height\n",
              "            </td>\n",
              "        </tr>\n",
              "    \n",
              "        <tr style=\"background-color: hsl(120, 100.00%, 98.93%); border: none;\">\n",
              "            <td style=\"padding: 0 1em 0 0.5em; text-align: right; border: none;\">\n",
              "                0.0015\n",
              "                \n",
              "                    &plusmn; 0.0011\n",
              "                \n",
              "            </td>\n",
              "            <td style=\"padding: 0 0.5em 0 0.5em; text-align: left; border: none;\">\n",
              "                source\n",
              "            </td>\n",
              "        </tr>\n",
              "    \n",
              "        <tr style=\"background-color: hsl(120, 100.00%, 98.96%); border: none;\">\n",
              "            <td style=\"padding: 0 1em 0 0.5em; text-align: right; border: none;\">\n",
              "                0.0015\n",
              "                \n",
              "                    &plusmn; 0.0017\n",
              "                \n",
              "            </td>\n",
              "            <td style=\"padding: 0 0.5em 0 0.5em; text-align: left; border: none;\">\n",
              "                day_recorded\n",
              "            </td>\n",
              "        </tr>\n",
              "    \n",
              "        <tr style=\"background-color: hsl(120, 100.00%, 99.14%); border: none;\">\n",
              "            <td style=\"padding: 0 1em 0 0.5em; text-align: right; border: none;\">\n",
              "                0.0011\n",
              "                \n",
              "                    &plusmn; 0.0012\n",
              "                \n",
              "            </td>\n",
              "            <td style=\"padding: 0 0.5em 0 0.5em; text-align: left; border: none;\">\n",
              "                funder\n",
              "            </td>\n",
              "        </tr>\n",
              "    \n",
              "        <tr style=\"background-color: hsl(120, 100.00%, 99.14%); border: none;\">\n",
              "            <td style=\"padding: 0 1em 0 0.5em; text-align: right; border: none;\">\n",
              "                0.0011\n",
              "                \n",
              "                    &plusmn; 0.0019\n",
              "                \n",
              "            </td>\n",
              "            <td style=\"padding: 0 0.5em 0 0.5em; text-align: left; border: none;\">\n",
              "                month_recorded\n",
              "            </td>\n",
              "        </tr>\n",
              "    \n",
              "        <tr style=\"background-color: hsl(120, 100.00%, 99.24%); border: none;\">\n",
              "            <td style=\"padding: 0 1em 0 0.5em; text-align: right; border: none;\">\n",
              "                0.0009\n",
              "                \n",
              "                    &plusmn; 0.0014\n",
              "                \n",
              "            </td>\n",
              "            <td style=\"padding: 0 0.5em 0 0.5em; text-align: left; border: none;\">\n",
              "                wpt_name\n",
              "            </td>\n",
              "        </tr>\n",
              "    \n",
              "        <tr style=\"background-color: hsl(120, 100.00%, 99.25%); border: none;\">\n",
              "            <td style=\"padding: 0 1em 0 0.5em; text-align: right; border: none;\">\n",
              "                0.0009\n",
              "                \n",
              "                    &plusmn; 0.0013\n",
              "                \n",
              "            </td>\n",
              "            <td style=\"padding: 0 0.5em 0 0.5em; text-align: left; border: none;\">\n",
              "                region\n",
              "            </td>\n",
              "        </tr>\n",
              "    \n",
              "        <tr style=\"background-color: hsl(120, 100.00%, 99.27%); border: none;\">\n",
              "            <td style=\"padding: 0 1em 0 0.5em; text-align: right; border: none;\">\n",
              "                0.0009\n",
              "                \n",
              "                    &plusmn; 0.0014\n",
              "                \n",
              "            </td>\n",
              "            <td style=\"padding: 0 0.5em 0 0.5em; text-align: left; border: none;\">\n",
              "                region_code\n",
              "            </td>\n",
              "        </tr>\n",
              "    \n",
              "        <tr style=\"background-color: hsl(120, 100.00%, 99.28%); border: none;\">\n",
              "            <td style=\"padding: 0 1em 0 0.5em; text-align: right; border: none;\">\n",
              "                0.0009\n",
              "                \n",
              "                    &plusmn; 0.0007\n",
              "                \n",
              "            </td>\n",
              "            <td style=\"padding: 0 0.5em 0 0.5em; text-align: left; border: none;\">\n",
              "                longitude_MISSING\n",
              "            </td>\n",
              "        </tr>\n",
              "    \n",
              "        <tr style=\"background-color: hsl(120, 100.00%, 99.32%); border: none;\">\n",
              "            <td style=\"padding: 0 1em 0 0.5em; text-align: right; border: none;\">\n",
              "                0.0008\n",
              "                \n",
              "                    &plusmn; 0.0020\n",
              "                \n",
              "            </td>\n",
              "            <td style=\"padding: 0 0.5em 0 0.5em; text-align: left; border: none;\">\n",
              "                scheme_name\n",
              "            </td>\n",
              "        </tr>\n",
              "    \n",
              "        <tr style=\"background-color: hsl(120, 100.00%, 99.34%); border: none;\">\n",
              "            <td style=\"padding: 0 1em 0 0.5em; text-align: right; border: none;\">\n",
              "                0.0008\n",
              "                \n",
              "                    &plusmn; 0.0006\n",
              "                \n",
              "            </td>\n",
              "            <td style=\"padding: 0 0.5em 0 0.5em; text-align: left; border: none;\">\n",
              "                permit\n",
              "            </td>\n",
              "        </tr>\n",
              "    \n",
              "        <tr style=\"background-color: hsl(120, 100.00%, 99.37%); border: none;\">\n",
              "            <td style=\"padding: 0 1em 0 0.5em; text-align: right; border: none;\">\n",
              "                0.0007\n",
              "                \n",
              "                    &plusmn; 0.0009\n",
              "                \n",
              "            </td>\n",
              "            <td style=\"padding: 0 0.5em 0 0.5em; text-align: left; border: none;\">\n",
              "                lga\n",
              "            </td>\n",
              "        </tr>\n",
              "    \n",
              "        <tr style=\"background-color: hsl(120, 100.00%, 99.41%); border: none;\">\n",
              "            <td style=\"padding: 0 1em 0 0.5em; text-align: right; border: none;\">\n",
              "                0.0007\n",
              "                \n",
              "                    &plusmn; 0.0020\n",
              "                \n",
              "            </td>\n",
              "            <td style=\"padding: 0 0.5em 0 0.5em; text-align: left; border: none;\">\n",
              "                scheme_management\n",
              "            </td>\n",
              "        </tr>\n",
              "    \n",
              "        <tr style=\"background-color: hsl(120, 100.00%, 99.49%); border: none;\">\n",
              "            <td style=\"padding: 0 1em 0 0.5em; text-align: right; border: none;\">\n",
              "                0.0005\n",
              "                \n",
              "                    &plusmn; 0.0017\n",
              "                \n",
              "            </td>\n",
              "            <td style=\"padding: 0 0.5em 0 0.5em; text-align: left; border: none;\">\n",
              "                ward\n",
              "            </td>\n",
              "        </tr>\n",
              "    \n",
              "        <tr style=\"background-color: hsl(120, 100.00%, 99.49%); border: none;\">\n",
              "            <td style=\"padding: 0 1em 0 0.5em; text-align: right; border: none;\">\n",
              "                0.0005\n",
              "                \n",
              "                    &plusmn; 0.0008\n",
              "                \n",
              "            </td>\n",
              "            <td style=\"padding: 0 0.5em 0 0.5em; text-align: left; border: none;\">\n",
              "                water_quality\n",
              "            </td>\n",
              "        </tr>\n",
              "    \n",
              "        <tr style=\"background-color: hsl(120, 100.00%, 99.49%); border: none;\">\n",
              "            <td style=\"padding: 0 1em 0 0.5em; text-align: right; border: none;\">\n",
              "                0.0005\n",
              "                \n",
              "                    &plusmn; 0.0014\n",
              "                \n",
              "            </td>\n",
              "            <td style=\"padding: 0 0.5em 0 0.5em; text-align: left; border: none;\">\n",
              "                extraction_type\n",
              "            </td>\n",
              "        </tr>\n",
              "    \n",
              "        <tr style=\"background-color: hsl(120, 100.00%, 99.53%); border: none;\">\n",
              "            <td style=\"padding: 0 1em 0 0.5em; text-align: right; border: none;\">\n",
              "                0.0005\n",
              "                \n",
              "                    &plusmn; 0.0005\n",
              "                \n",
              "            </td>\n",
              "            <td style=\"padding: 0 0.5em 0 0.5em; text-align: left; border: none;\">\n",
              "                years_MISSING\n",
              "            </td>\n",
              "        </tr>\n",
              "    \n",
              "        <tr style=\"background-color: hsl(120, 100.00%, 99.55%); border: none;\">\n",
              "            <td style=\"padding: 0 1em 0 0.5em; text-align: right; border: none;\">\n",
              "                0.0005\n",
              "                \n",
              "                    &plusmn; 0.0021\n",
              "                \n",
              "            </td>\n",
              "            <td style=\"padding: 0 0.5em 0 0.5em; text-align: left; border: none;\">\n",
              "                management\n",
              "            </td>\n",
              "        </tr>\n",
              "    \n",
              "        <tr style=\"background-color: hsl(120, 100.00%, 99.63%); border: none;\">\n",
              "            <td style=\"padding: 0 1em 0 0.5em; text-align: right; border: none;\">\n",
              "                0.0003\n",
              "                \n",
              "                    &plusmn; 0.0000\n",
              "                \n",
              "            </td>\n",
              "            <td style=\"padding: 0 0.5em 0 0.5em; text-align: left; border: none;\">\n",
              "                num_private\n",
              "            </td>\n",
              "        </tr>\n",
              "    \n",
              "        <tr style=\"background-color: hsl(120, 100.00%, 99.63%); border: none;\">\n",
              "            <td style=\"padding: 0 1em 0 0.5em; text-align: right; border: none;\">\n",
              "                0.0003\n",
              "                \n",
              "                    &plusmn; 0.0011\n",
              "                \n",
              "            </td>\n",
              "            <td style=\"padding: 0 0.5em 0 0.5em; text-align: left; border: none;\">\n",
              "                source_class\n",
              "            </td>\n",
              "        </tr>\n",
              "    \n",
              "        <tr style=\"background-color: hsl(120, 100.00%, 99.69%); border: none;\">\n",
              "            <td style=\"padding: 0 1em 0 0.5em; text-align: right; border: none;\">\n",
              "                0.0003\n",
              "                \n",
              "                    &plusmn; 0.0011\n",
              "                \n",
              "            </td>\n",
              "            <td style=\"padding: 0 0.5em 0 0.5em; text-align: left; border: none;\">\n",
              "                year_recorded\n",
              "            </td>\n",
              "        </tr>\n",
              "    \n",
              "        <tr style=\"background-color: hsl(120, 100.00%, 99.74%); border: none;\">\n",
              "            <td style=\"padding: 0 1em 0 0.5em; text-align: right; border: none;\">\n",
              "                0.0002\n",
              "                \n",
              "                    &plusmn; 0.0005\n",
              "                \n",
              "            </td>\n",
              "            <td style=\"padding: 0 0.5em 0 0.5em; text-align: left; border: none;\">\n",
              "                population_MISSING\n",
              "            </td>\n",
              "        </tr>\n",
              "    \n",
              "        <tr style=\"background-color: hsl(120, 100.00%, 99.81%); border: none;\">\n",
              "            <td style=\"padding: 0 1em 0 0.5em; text-align: right; border: none;\">\n",
              "                0.0001\n",
              "                \n",
              "                    &plusmn; 0.0001\n",
              "                \n",
              "            </td>\n",
              "            <td style=\"padding: 0 0.5em 0 0.5em; text-align: left; border: none;\">\n",
              "                latitude_MISSING\n",
              "            </td>\n",
              "        </tr>\n",
              "    \n",
              "        <tr style=\"background-color: hsl(120, 100.00%, 99.90%); border: none;\">\n",
              "            <td style=\"padding: 0 1em 0 0.5em; text-align: right; border: none;\">\n",
              "                0.0001\n",
              "                \n",
              "                    &plusmn; 0.0007\n",
              "                \n",
              "            </td>\n",
              "            <td style=\"padding: 0 0.5em 0 0.5em; text-align: left; border: none;\">\n",
              "                gps_height_MISSING\n",
              "            </td>\n",
              "        </tr>\n",
              "    \n",
              "        <tr style=\"background-color: hsl(120, 100.00%, 99.90%); border: none;\">\n",
              "            <td style=\"padding: 0 1em 0 0.5em; text-align: right; border: none;\">\n",
              "                0.0001\n",
              "                \n",
              "                    &plusmn; 0.0008\n",
              "                \n",
              "            </td>\n",
              "            <td style=\"padding: 0 0.5em 0 0.5em; text-align: left; border: none;\">\n",
              "                construction_year_MISSING\n",
              "            </td>\n",
              "        </tr>\n",
              "    \n",
              "        <tr style=\"background-color: hsl(0, 100.00%, 99.95%); border: none;\">\n",
              "            <td style=\"padding: 0 1em 0 0.5em; text-align: right; border: none;\">\n",
              "                -0.0000\n",
              "                \n",
              "                    &plusmn; 0.0005\n",
              "                \n",
              "            </td>\n",
              "            <td style=\"padding: 0 0.5em 0 0.5em; text-align: left; border: none;\">\n",
              "                source_type\n",
              "            </td>\n",
              "        </tr>\n",
              "    \n",
              "        <tr style=\"background-color: hsl(0, 100.00%, 99.90%); border: none;\">\n",
              "            <td style=\"padding: 0 1em 0 0.5em; text-align: right; border: none;\">\n",
              "                -0.0001\n",
              "                \n",
              "                    &plusmn; 0.0020\n",
              "                \n",
              "            </td>\n",
              "            <td style=\"padding: 0 0.5em 0 0.5em; text-align: left; border: none;\">\n",
              "                installer\n",
              "            </td>\n",
              "        </tr>\n",
              "    \n",
              "        <tr style=\"background-color: hsl(0, 100.00%, 99.52%); border: none;\">\n",
              "            <td style=\"padding: 0 1em 0 0.5em; text-align: right; border: none;\">\n",
              "                -0.0005\n",
              "                \n",
              "                    &plusmn; 0.0006\n",
              "                \n",
              "            </td>\n",
              "            <td style=\"padding: 0 0.5em 0 0.5em; text-align: left; border: none;\">\n",
              "                management_group\n",
              "            </td>\n",
              "        </tr>\n",
              "    \n",
              "        <tr style=\"background-color: hsl(0, 100.00%, 99.47%); border: none;\">\n",
              "            <td style=\"padding: 0 1em 0 0.5em; text-align: right; border: none;\">\n",
              "                -0.0006\n",
              "                \n",
              "                    &plusmn; 0.0012\n",
              "                \n",
              "            </td>\n",
              "            <td style=\"padding: 0 0.5em 0 0.5em; text-align: left; border: none;\">\n",
              "                quality_group\n",
              "            </td>\n",
              "        </tr>\n",
              "    \n",
              "        <tr style=\"background-color: hsl(0, 100.00%, 98.99%); border: none;\">\n",
              "            <td style=\"padding: 0 1em 0 0.5em; text-align: right; border: none;\">\n",
              "                -0.0014\n",
              "                \n",
              "                    &plusmn; 0.0009\n",
              "                \n",
              "            </td>\n",
              "            <td style=\"padding: 0 0.5em 0 0.5em; text-align: left; border: none;\">\n",
              "                basin\n",
              "            </td>\n",
              "        </tr>\n",
              "    \n",
              "    \n",
              "    </tbody>\n",
              "</table>\n",
              "    \n",
              "\n",
              "    \n",
              "\n",
              "\n",
              "    \n",
              "\n",
              "    \n",
              "\n",
              "    \n",
              "\n",
              "    \n",
              "\n",
              "    \n",
              "\n",
              "    \n",
              "\n",
              "\n",
              "\n"
            ],
            "text/plain": [
              "<IPython.core.display.HTML object>"
            ]
          },
          "metadata": {
            "tags": []
          },
          "execution_count": 32
        }
      ]
    },
    {
      "cell_type": "markdown",
      "metadata": {
        "colab_type": "text",
        "id": "q07yW9k-Yii8"
      },
      "source": [
        "### We can use importances for feature selection\n",
        "\n",
        "For example, we can remove features with zero importance. The model trains faster and the score does not decrease."
      ]
    },
    {
      "cell_type": "code",
      "metadata": {
        "colab_type": "code",
        "id": "tZrPFyEMYii9",
        "outputId": "878bf311-0bb3-4bd7-b3d7-66943dea62c6",
        "colab": {
          "base_uri": "https://localhost:8080/",
          "height": 35
        }
      },
      "source": [
        "print(f'Shape before removing features: {X_train.shape}')"
      ],
      "execution_count": 0,
      "outputs": [
        {
          "output_type": "stream",
          "text": [
            "Shape before removing features: (47520, 45)\n"
          ],
          "name": "stdout"
        }
      ]
    },
    {
      "cell_type": "code",
      "metadata": {
        "id": "cSQMIIb-6y8J",
        "colab_type": "code",
        "outputId": "92b8c7bf-b3e2-41c0-96cf-47a68ee9ef5d",
        "colab": {
          "base_uri": "https://localhost:8080/",
          "height": 109
        }
      },
      "source": [
        "minimum_importance = 0\n",
        "mask = permuter.feature_importances_ > minimum_importance\n",
        "mask"
      ],
      "execution_count": 0,
      "outputs": [
        {
          "output_type": "execute_result",
          "data": {
            "text/plain": [
              "array([ True,  True,  True, False,  True,  True,  True,  True, False,\n",
              "        True,  True,  True,  True,  True,  True,  True,  True,  True,\n",
              "        True,  True,  True,  True,  True,  True,  True, False,  True,\n",
              "        True, False,  True,  True, False,  True,  True,  True,  True,\n",
              "        True,  True,  True,  True,  True,  True,  True,  True,  True])"
            ]
          },
          "metadata": {
            "tags": []
          },
          "execution_count": 36
        }
      ]
    },
    {
      "cell_type": "code",
      "metadata": {
        "id": "vlPqkAET6y_A",
        "colab_type": "code",
        "colab": {}
      },
      "source": [
        "features = X_train.columns[mask]\n",
        "X_train = X_train[features]"
      ],
      "execution_count": 0,
      "outputs": []
    },
    {
      "cell_type": "code",
      "metadata": {
        "id": "gSr9qhSX6zBo",
        "colab_type": "code",
        "outputId": "8a593fe8-6063-4764-be85-995a687099be",
        "colab": {
          "base_uri": "https://localhost:8080/",
          "height": 35
        }
      },
      "source": [
        "print(f'Shape after removing features: {X_train.shape}')"
      ],
      "execution_count": 0,
      "outputs": [
        {
          "output_type": "stream",
          "text": [
            "Shape after removing features: (47520, 40)\n"
          ],
          "name": "stdout"
        }
      ]
    },
    {
      "cell_type": "code",
      "metadata": {
        "id": "OSGAMau56zDy",
        "colab_type": "code",
        "outputId": "7230ae26-5a92-4fbe-b176-79ed44d5d5d6",
        "colab": {
          "base_uri": "https://localhost:8080/",
          "height": 35
        }
      },
      "source": [
        "X_val = X_val[features]\n",
        "\n",
        "pipeline = make_pipeline(\n",
        "    ce.ordinal.OrdinalEncoder(),\n",
        "    SimpleImputer(strategy='median'),\n",
        "    RandomForestClassifier(n_estimators=100, random_state=42, n_jobs=-1)\n",
        ")\n",
        "\n",
        "pipeline.fit(X_train, y_train)\n",
        "\n",
        "print(f'Validation accuracy: {pipeline.score(X_val, y_val)}')"
      ],
      "execution_count": 0,
      "outputs": [
        {
          "output_type": "stream",
          "text": [
            "Validation accuracy: 0.8117003367003367\n"
          ],
          "name": "stdout"
        }
      ]
    },
    {
      "cell_type": "markdown",
      "metadata": {
        "colab_type": "text",
        "id": "fl67bCR7WY6j"
      },
      "source": [
        "# Use xgboost for gradient boosting"
      ]
    },
    {
      "cell_type": "markdown",
      "metadata": {
        "id": "E2boSJTYZhLL",
        "colab_type": "text"
      },
      "source": [
        "## Overview"
      ]
    },
    {
      "cell_type": "markdown",
      "metadata": {
        "id": "B3686f9RZhLL",
        "colab_type": "text"
      },
      "source": [
        "In the Random Forest lesson, you learned this advice:\n",
        "\n",
        "#### Try Tree Ensembles when you do machine learning with labeled, tabular data\n",
        "- \"Tree Ensembles\" means Random Forest or **Gradient Boosting** models. \n",
        "- [Tree Ensembles often have the best predictive accuracy](https://arxiv.org/abs/1708.05070) with labeled, tabular data.\n",
        "- Why? Because trees can fit non-linear, non-[monotonic](https://en.wikipedia.org/wiki/Monotonic_function) relationships, and [interactions](https://christophm.github.io/interpretable-ml-book/interaction.html) between features.\n",
        "- A single decision tree, grown to unlimited depth, will [overfit](http://www.r2d3.us/visual-intro-to-machine-learning-part-1/). We solve this problem by ensembling trees, with bagging (Random Forest) or **[boosting](https://www.youtube.com/watch?v=GM3CDQfQ4sw)** (Gradient Boosting).\n",
        "- Random Forest's advantage: may be less sensitive to hyperparameters. **Gradient Boosting's advantage:** may get better predictive accuracy."
      ]
    },
    {
      "cell_type": "markdown",
      "metadata": {
        "id": "kYzYvr9RZhLM",
        "colab_type": "text"
      },
      "source": [
        "Like Random Forest, Gradient Boosting uses ensembles of trees. But the details of the ensembling technique are different:\n",
        "\n",
        "### Understand the difference between boosting & bagging\n",
        "\n",
        "Boosting (used by Gradient Boosting) is different than Bagging (used by Random Forests). \n",
        "\n",
        "Here's an excerpt from [_An Introduction to Statistical Learning_](http://www-bcf.usc.edu/~gareth/ISL/ISLR%20Seventh%20Printing.pdf) Chapter 8.2.3, Boosting:\n",
        "\n",
        ">Recall that bagging involves creating multiple copies of the original training data set using the bootstrap, fitting a separate decision tree to each copy, and then combining all of the trees in order to create a single predictive model.\n",
        ">\n",
        ">**Boosting works in a similar way, except that the trees are grown _sequentially_: each tree is grown using information from previously grown trees.**\n",
        ">\n",
        ">Unlike fitting a single large decision tree to the data, which amounts to _fitting the data hard_ and potentially overfitting, the boosting approach instead _learns slowly._ Given the current model, we fit a decision tree to the residuals from the model.\n",
        ">\n",
        ">We then add this new decision tree into the fitted function in order to update the residuals. Each of these trees can be rather small, with just a few terminal nodes. **By fitting small trees to the residuals, we slowly improve fˆ in areas where it does not perform well.**\n",
        ">\n",
        ">Note that in boosting, unlike in bagging, the construction of each tree depends strongly on the trees that have already been grown.\n",
        "\n",
        "This high-level overview is all you need to know for now. If you want to go deeper, we recommend you watch the StatQuest videos on gradient boosting!"
      ]
    },
    {
      "cell_type": "markdown",
      "metadata": {
        "id": "s0YfqQOMZhLO",
        "colab_type": "text"
      },
      "source": [
        "Let's write some code. We have lots of options for which libraries to use:\n",
        "\n",
        "#### Python libraries for Gradient Boosting\n",
        "- [scikit-learn Gradient Tree Boosting](https://scikit-learn.org/stable/modules/ensemble.html#gradient-boosting) — slower than other libraries, but [the new version may be better](https://twitter.com/amuellerml/status/1129443826945396737)\n",
        "  - Anaconda: already installed\n",
        "  - Google Colab: already installed\n",
        "- [xgboost](https://xgboost.readthedocs.io/en/latest/) — can accept missing values and enforce [monotonic constraints](https://xiaoxiaowang87.github.io/monotonicity_constraint/)\n",
        "  - Anaconda, Mac/Linux: `conda install -c conda-forge xgboost`\n",
        "  - Windows: `conda install -c anaconda py-xgboost`\n",
        "  - Google Colab: already installed\n",
        "- [LightGBM](https://lightgbm.readthedocs.io/en/latest/) — can accept missing values and enforce [monotonic constraints](https://blog.datadive.net/monotonicity-constraints-in-machine-learning/)\n",
        "  - Anaconda: `conda install -c conda-forge lightgbm`\n",
        "  - Google Colab: already installed\n",
        "- [CatBoost](https://catboost.ai/) — can accept missing values and use [categorical features](https://catboost.ai/docs/concepts/algorithm-main-stages_cat-to-numberic.html) without preprocessing\n",
        "  - Anaconda: `conda install -c conda-forge catboost`\n",
        "  - Google Colab: `pip install catboost`"
      ]
    },
    {
      "cell_type": "markdown",
      "metadata": {
        "id": "ZQtURuDyZhLP",
        "colab_type": "text"
      },
      "source": [
        "In this lesson, you'll use a new library, xgboost — But it has an API that's almost the same as scikit-learn, so it won't be a hard adjustment!\n",
        "\n",
        "#### [XGBoost Python API Reference: Scikit-Learn API](https://xgboost.readthedocs.io/en/latest/python/python_api.html#module-xgboost.sklearn)"
      ]
    },
    {
      "cell_type": "code",
      "metadata": {
        "colab_type": "code",
        "id": "wsnJRKjfWYph",
        "outputId": "7e1b1332-df42-4f90-9c95-136685f006b9",
        "colab": {
          "base_uri": "https://localhost:8080/",
          "height": 440
        }
      },
      "source": [
        "from xgboost import XGBClassifier\n",
        "\n",
        "pipeline = make_pipeline(\n",
        "    ce.ordinal.OrdinalEncoder(),\n",
        "    XGBClassifier(n_estimators=100, random_state=42, n_jobs=-1)\n",
        ")\n",
        "\n",
        "pipeline.fit(X_train, y_train)"
      ],
      "execution_count": 0,
      "outputs": [
        {
          "output_type": "execute_result",
          "data": {
            "text/plain": [
              "Pipeline(memory=None,\n",
              "         steps=[('ordinalencoder',\n",
              "                 OrdinalEncoder(cols=['funder', 'wpt_name', 'subvillage',\n",
              "                                      'region', 'lga', 'ward', 'public_meeting',\n",
              "                                      'scheme_management', 'scheme_name',\n",
              "                                      'permit', 'extraction_type',\n",
              "                                      'extraction_type_group',\n",
              "                                      'extraction_type_class', 'management',\n",
              "                                      'payment', 'water_quality', 'quantity',\n",
              "                                      'source', 'source_class',\n",
              "                                      'waterpoint_type',\n",
              "                                      'waterpoin...\n",
              "                 XGBClassifier(base_score=0.5, booster='gbtree',\n",
              "                               colsample_bylevel=1, colsample_bynode=1,\n",
              "                               colsample_bytree=1, gamma=0, learning_rate=0.1,\n",
              "                               max_delta_step=0, max_depth=3,\n",
              "                               min_child_weight=1, missing=None,\n",
              "                               n_estimators=100, n_jobs=-1, nthread=None,\n",
              "                               objective='multi:softprob', random_state=42,\n",
              "                               reg_alpha=0, reg_lambda=1, scale_pos_weight=1,\n",
              "                               seed=None, silent=None, subsample=1,\n",
              "                               verbosity=1))],\n",
              "         verbose=False)"
            ]
          },
          "metadata": {
            "tags": []
          },
          "execution_count": 41
        }
      ]
    },
    {
      "cell_type": "code",
      "metadata": {
        "id": "4WUzAbui_kgq",
        "colab_type": "code",
        "outputId": "e3808617-3afe-4a28-cd9e-417cafa10abf",
        "colab": {
          "base_uri": "https://localhost:8080/",
          "height": 35
        }
      },
      "source": [
        "from sklearn.metrics import accuracy_score\n",
        "\n",
        "y_pred = pipeline.predict(X_val)\n",
        "print(f'Validation accuracy: {accuracy_score(y_val, y_pred)}')"
      ],
      "execution_count": 0,
      "outputs": [
        {
          "output_type": "stream",
          "text": [
            "Validation accuracy: 0.7457070707070707\n"
          ],
          "name": "stdout"
        }
      ]
    },
    {
      "cell_type": "code",
      "metadata": {
        "id": "K9vupPuE_kjB",
        "colab_type": "code",
        "outputId": "833a61ac-9244-415b-c7b2-f7dc47ba6485",
        "colab": {
          "base_uri": "https://localhost:8080/",
          "height": 35
        }
      },
      "source": [
        "print(f'Validation accuracy: {pipeline.score(X_val, y_val)}')"
      ],
      "execution_count": 0,
      "outputs": [
        {
          "output_type": "stream",
          "text": [
            "Validation accuracy: 0.7457070707070707\n"
          ],
          "name": "stdout"
        }
      ]
    },
    {
      "cell_type": "markdown",
      "metadata": {
        "colab_type": "text",
        "id": "eCjVSlD_XJr2"
      },
      "source": [
        "#### [Avoid Overfitting By Early Stopping With XGBoost In Python](https://machinelearningmastery.com/avoid-overfitting-by-early-stopping-with-xgboost-in-python/)\n",
        "\n",
        "Why is early stopping better than a For loop, or GridSearchCV, to optimize `n_estimators`?\n",
        "\n",
        "With early stopping, if `n_iterations` is our number of iterations, then we fit `n_iterations` decision trees.\n",
        "\n",
        "With a for loop, or GridSearchCV, we'd fit `sum(range(1,n_rounds+1))` trees.\n",
        "\n",
        "But it doesn't work well with pipelines. You may need to re-run multiple times with different values of other parameters such as `max_depth` and `learning_rate`.\n",
        "\n",
        "#### XGBoost parameters\n",
        "- [Notes on parameter tuning](https://xgboost.readthedocs.io/en/latest/tutorials/param_tuning.html)\n",
        "- [Parameters documentation](https://xgboost.readthedocs.io/en/latest/parameter.html)\n"
      ]
    },
    {
      "cell_type": "code",
      "metadata": {
        "colab_type": "code",
        "id": "ZNX3IKftXBFS",
        "outputId": "7bbfbad7-5478-4c53-ac0d-9c09bc119fd5",
        "colab": {
          "base_uri": "https://localhost:8080/",
          "height": 1000
        }
      },
      "source": [
        "encoder = ce.ordinal.OrdinalEncoder()\n",
        "X_train_encoded = encoder.fit_transform(X_train)\n",
        "X_val_encoded = encoder.transform(X_val)\n",
        "\n",
        "model = XGBClassifier(\n",
        "    n_estimators=1000, # upper threshold\n",
        "    max_depth=3, # use higher values if dealing with a lot of high-cardinality features\n",
        "    learning_rate=0.5,\n",
        "    n_jobs=-1\n",
        ")\n",
        "eval_set = [(X_train_encoded, y_train), (X_val_encoded, y_val)]\n",
        "model.fit(X_train_encoded, \n",
        "          y_train, \n",
        "          eval_set=eval_set, \n",
        "          eval_metric='merror',\n",
        "          early_stopping_rounds=50) # stop if the score hasn't improved in 50 rounds/iterations"
      ],
      "execution_count": 0,
      "outputs": [
        {
          "output_type": "stream",
          "text": [
            "[0]\tvalidation_0-merror:0.305366\tvalidation_1-merror:0.304714\n",
            "Multiple eval metrics have been passed: 'validation_1-merror' will be used for early stopping.\n",
            "\n",
            "Will train until validation_1-merror hasn't improved in 50 rounds.\n",
            "[1]\tvalidation_0-merror:0.29173\tvalidation_1-merror:0.292003\n",
            "[2]\tvalidation_0-merror:0.283375\tvalidation_1-merror:0.285101\n",
            "[3]\tvalidation_0-merror:0.281313\tvalidation_1-merror:0.280724\n",
            "[4]\tvalidation_0-merror:0.27702\tvalidation_1-merror:0.27862\n",
            "[5]\tvalidation_0-merror:0.273969\tvalidation_1-merror:0.274242\n",
            "[6]\tvalidation_0-merror:0.270034\tvalidation_1-merror:0.272811\n",
            "[7]\tvalidation_0-merror:0.268013\tvalidation_1-merror:0.270623\n",
            "[8]\tvalidation_0-merror:0.265509\tvalidation_1-merror:0.26835\n",
            "[9]\tvalidation_0-merror:0.265425\tvalidation_1-merror:0.266835\n",
            "[10]\tvalidation_0-merror:0.261742\tvalidation_1-merror:0.263468\n",
            "[11]\tvalidation_0-merror:0.260375\tvalidation_1-merror:0.262458\n",
            "[12]\tvalidation_0-merror:0.257765\tvalidation_1-merror:0.261195\n",
            "[13]\tvalidation_0-merror:0.256397\tvalidation_1-merror:0.258838\n",
            "[14]\tvalidation_0-merror:0.254293\tvalidation_1-merror:0.256566\n",
            "[15]\tvalidation_0-merror:0.253178\tvalidation_1-merror:0.25564\n",
            "[16]\tvalidation_0-merror:0.251157\tvalidation_1-merror:0.255135\n",
            "[17]\tvalidation_0-merror:0.250379\tvalidation_1-merror:0.254545\n",
            "[18]\tvalidation_0-merror:0.250042\tvalidation_1-merror:0.254545\n",
            "[19]\tvalidation_0-merror:0.248316\tvalidation_1-merror:0.252946\n",
            "[20]\tvalidation_0-merror:0.247033\tvalidation_1-merror:0.252862\n",
            "[21]\tvalidation_0-merror:0.245286\tvalidation_1-merror:0.251347\n",
            "[22]\tvalidation_0-merror:0.245223\tvalidation_1-merror:0.250337\n",
            "[23]\tvalidation_0-merror:0.244529\tvalidation_1-merror:0.250084\n",
            "[24]\tvalidation_0-merror:0.242382\tvalidation_1-merror:0.248822\n",
            "[25]\tvalidation_0-merror:0.242508\tvalidation_1-merror:0.24798\n",
            "[26]\tvalidation_0-merror:0.241751\tvalidation_1-merror:0.247559\n",
            "[27]\tvalidation_0-merror:0.240972\tvalidation_1-merror:0.244781\n",
            "[28]\tvalidation_0-merror:0.240215\tvalidation_1-merror:0.245118\n",
            "[29]\tvalidation_0-merror:0.240004\tvalidation_1-merror:0.245455\n",
            "[30]\tvalidation_0-merror:0.23952\tvalidation_1-merror:0.245202\n",
            "[31]\tvalidation_0-merror:0.239478\tvalidation_1-merror:0.244192\n",
            "[32]\tvalidation_0-merror:0.238489\tvalidation_1-merror:0.244444\n",
            "[33]\tvalidation_0-merror:0.237605\tvalidation_1-merror:0.243603\n",
            "[34]\tvalidation_0-merror:0.237605\tvalidation_1-merror:0.243013\n",
            "[35]\tvalidation_0-merror:0.237374\tvalidation_1-merror:0.242677\n",
            "[36]\tvalidation_0-merror:0.236742\tvalidation_1-merror:0.242424\n",
            "[37]\tvalidation_0-merror:0.235648\tvalidation_1-merror:0.239731\n",
            "[38]\tvalidation_0-merror:0.234364\tvalidation_1-merror:0.2383\n",
            "[39]\tvalidation_0-merror:0.233902\tvalidation_1-merror:0.237542\n",
            "[40]\tvalidation_0-merror:0.232955\tvalidation_1-merror:0.237879\n",
            "[41]\tvalidation_0-merror:0.23245\tvalidation_1-merror:0.237374\n",
            "[42]\tvalidation_0-merror:0.231103\tvalidation_1-merror:0.235943\n",
            "[43]\tvalidation_0-merror:0.230135\tvalidation_1-merror:0.235269\n",
            "[44]\tvalidation_0-merror:0.230492\tvalidation_1-merror:0.234512\n",
            "[45]\tvalidation_0-merror:0.22923\tvalidation_1-merror:0.23367\n",
            "[46]\tvalidation_0-merror:0.228514\tvalidation_1-merror:0.232323\n",
            "[47]\tvalidation_0-merror:0.227273\tvalidation_1-merror:0.231902\n",
            "[48]\tvalidation_0-merror:0.227083\tvalidation_1-merror:0.232071\n",
            "[49]\tvalidation_0-merror:0.226578\tvalidation_1-merror:0.231229\n",
            "[50]\tvalidation_0-merror:0.226557\tvalidation_1-merror:0.231734\n",
            "[51]\tvalidation_0-merror:0.225442\tvalidation_1-merror:0.231481\n",
            "[52]\tvalidation_0-merror:0.224874\tvalidation_1-merror:0.231987\n",
            "[53]\tvalidation_0-merror:0.224348\tvalidation_1-merror:0.231061\n",
            "[54]\tvalidation_0-merror:0.223611\tvalidation_1-merror:0.231481\n",
            "[55]\tvalidation_0-merror:0.223022\tvalidation_1-merror:0.232071\n",
            "[56]\tvalidation_0-merror:0.222559\tvalidation_1-merror:0.232071\n",
            "[57]\tvalidation_0-merror:0.222517\tvalidation_1-merror:0.229882\n",
            "[58]\tvalidation_0-merror:0.222306\tvalidation_1-merror:0.229461\n",
            "[59]\tvalidation_0-merror:0.221738\tvalidation_1-merror:0.229461\n",
            "[60]\tvalidation_0-merror:0.221528\tvalidation_1-merror:0.229461\n",
            "[61]\tvalidation_0-merror:0.220497\tvalidation_1-merror:0.228704\n",
            "[62]\tvalidation_0-merror:0.220076\tvalidation_1-merror:0.22862\n",
            "[63]\tvalidation_0-merror:0.219823\tvalidation_1-merror:0.228535\n",
            "[64]\tvalidation_0-merror:0.219865\tvalidation_1-merror:0.229125\n",
            "[65]\tvalidation_0-merror:0.219444\tvalidation_1-merror:0.229125\n",
            "[66]\tvalidation_0-merror:0.219444\tvalidation_1-merror:0.229209\n",
            "[67]\tvalidation_0-merror:0.21835\tvalidation_1-merror:0.228872\n",
            "[68]\tvalidation_0-merror:0.217719\tvalidation_1-merror:0.228451\n",
            "[69]\tvalidation_0-merror:0.217045\tvalidation_1-merror:0.227946\n",
            "[70]\tvalidation_0-merror:0.217088\tvalidation_1-merror:0.227946\n",
            "[71]\tvalidation_0-merror:0.217024\tvalidation_1-merror:0.227778\n",
            "[72]\tvalidation_0-merror:0.217445\tvalidation_1-merror:0.227862\n",
            "[73]\tvalidation_0-merror:0.216793\tvalidation_1-merror:0.226515\n",
            "[74]\tvalidation_0-merror:0.216604\tvalidation_1-merror:0.226094\n",
            "[75]\tvalidation_0-merror:0.216498\tvalidation_1-merror:0.225926\n",
            "[76]\tvalidation_0-merror:0.215972\tvalidation_1-merror:0.225926\n",
            "[77]\tvalidation_0-merror:0.215741\tvalidation_1-merror:0.226263\n",
            "[78]\tvalidation_0-merror:0.214836\tvalidation_1-merror:0.225337\n",
            "[79]\tvalidation_0-merror:0.21471\tvalidation_1-merror:0.226768\n",
            "[80]\tvalidation_0-merror:0.214331\tvalidation_1-merror:0.226936\n",
            "[81]\tvalidation_0-merror:0.21391\tvalidation_1-merror:0.226347\n",
            "[82]\tvalidation_0-merror:0.213342\tvalidation_1-merror:0.225673\n",
            "[83]\tvalidation_0-merror:0.212774\tvalidation_1-merror:0.226178\n",
            "[84]\tvalidation_0-merror:0.212689\tvalidation_1-merror:0.225421\n",
            "[85]\tvalidation_0-merror:0.211806\tvalidation_1-merror:0.225758\n",
            "[86]\tvalidation_0-merror:0.211827\tvalidation_1-merror:0.225758\n",
            "[87]\tvalidation_0-merror:0.211827\tvalidation_1-merror:0.226263\n",
            "[88]\tvalidation_0-merror:0.211406\tvalidation_1-merror:0.225842\n",
            "[89]\tvalidation_0-merror:0.211069\tvalidation_1-merror:0.22601\n",
            "[90]\tvalidation_0-merror:0.210711\tvalidation_1-merror:0.22601\n",
            "[91]\tvalidation_0-merror:0.210838\tvalidation_1-merror:0.225673\n",
            "[92]\tvalidation_0-merror:0.20968\tvalidation_1-merror:0.225421\n",
            "[93]\tvalidation_0-merror:0.209238\tvalidation_1-merror:0.225168\n",
            "[94]\tvalidation_0-merror:0.209364\tvalidation_1-merror:0.22399\n",
            "[95]\tvalidation_0-merror:0.20907\tvalidation_1-merror:0.223653\n",
            "[96]\tvalidation_0-merror:0.20827\tvalidation_1-merror:0.222643\n",
            "[97]\tvalidation_0-merror:0.207386\tvalidation_1-merror:0.223232\n",
            "[98]\tvalidation_0-merror:0.206776\tvalidation_1-merror:0.22298\n",
            "[99]\tvalidation_0-merror:0.206503\tvalidation_1-merror:0.222811\n",
            "[100]\tvalidation_0-merror:0.205997\tvalidation_1-merror:0.222811\n",
            "[101]\tvalidation_0-merror:0.205745\tvalidation_1-merror:0.22298\n",
            "[102]\tvalidation_0-merror:0.205745\tvalidation_1-merror:0.222306\n",
            "[103]\tvalidation_0-merror:0.205282\tvalidation_1-merror:0.221717\n",
            "[104]\tvalidation_0-merror:0.204987\tvalidation_1-merror:0.22197\n",
            "[105]\tvalidation_0-merror:0.204714\tvalidation_1-merror:0.221128\n",
            "[106]\tvalidation_0-merror:0.20444\tvalidation_1-merror:0.221128\n",
            "[107]\tvalidation_0-merror:0.204588\tvalidation_1-merror:0.22138\n",
            "[108]\tvalidation_0-merror:0.204125\tvalidation_1-merror:0.221633\n",
            "[109]\tvalidation_0-merror:0.204167\tvalidation_1-merror:0.221549\n",
            "[110]\tvalidation_0-merror:0.203914\tvalidation_1-merror:0.222306\n",
            "[111]\tvalidation_0-merror:0.203662\tvalidation_1-merror:0.221801\n",
            "[112]\tvalidation_0-merror:0.203178\tvalidation_1-merror:0.221044\n",
            "[113]\tvalidation_0-merror:0.203157\tvalidation_1-merror:0.220707\n",
            "[114]\tvalidation_0-merror:0.203009\tvalidation_1-merror:0.221044\n",
            "[115]\tvalidation_0-merror:0.202231\tvalidation_1-merror:0.220707\n",
            "[116]\tvalidation_0-merror:0.201936\tvalidation_1-merror:0.220623\n",
            "[117]\tvalidation_0-merror:0.201473\tvalidation_1-merror:0.219949\n",
            "[118]\tvalidation_0-merror:0.201347\tvalidation_1-merror:0.219613\n",
            "[119]\tvalidation_0-merror:0.201073\tvalidation_1-merror:0.219529\n",
            "[120]\tvalidation_0-merror:0.200842\tvalidation_1-merror:0.219192\n",
            "[121]\tvalidation_0-merror:0.200547\tvalidation_1-merror:0.218939\n",
            "[122]\tvalidation_0-merror:0.200568\tvalidation_1-merror:0.219444\n",
            "[123]\tvalidation_0-merror:0.199874\tvalidation_1-merror:0.219529\n",
            "[124]\tvalidation_0-merror:0.199747\tvalidation_1-merror:0.219949\n",
            "[125]\tvalidation_0-merror:0.199769\tvalidation_1-merror:0.219192\n",
            "[126]\tvalidation_0-merror:0.199516\tvalidation_1-merror:0.218603\n",
            "[127]\tvalidation_0-merror:0.199516\tvalidation_1-merror:0.218182\n",
            "[128]\tvalidation_0-merror:0.198927\tvalidation_1-merror:0.218434\n",
            "[129]\tvalidation_0-merror:0.198885\tvalidation_1-merror:0.218434\n",
            "[130]\tvalidation_0-merror:0.198401\tvalidation_1-merror:0.218519\n",
            "[131]\tvalidation_0-merror:0.198106\tvalidation_1-merror:0.21835\n",
            "[132]\tvalidation_0-merror:0.198106\tvalidation_1-merror:0.218182\n",
            "[133]\tvalidation_0-merror:0.19779\tvalidation_1-merror:0.218687\n",
            "[134]\tvalidation_0-merror:0.197517\tvalidation_1-merror:0.217761\n",
            "[135]\tvalidation_0-merror:0.197306\tvalidation_1-merror:0.217845\n",
            "[136]\tvalidation_0-merror:0.197075\tvalidation_1-merror:0.218013\n",
            "[137]\tvalidation_0-merror:0.19697\tvalidation_1-merror:0.218098\n",
            "[138]\tvalidation_0-merror:0.196633\tvalidation_1-merror:0.217761\n",
            "[139]\tvalidation_0-merror:0.196423\tvalidation_1-merror:0.218266\n",
            "[140]\tvalidation_0-merror:0.196402\tvalidation_1-merror:0.218098\n",
            "[141]\tvalidation_0-merror:0.196233\tvalidation_1-merror:0.218182\n",
            "[142]\tvalidation_0-merror:0.196275\tvalidation_1-merror:0.217845\n",
            "[143]\tvalidation_0-merror:0.195728\tvalidation_1-merror:0.217593\n",
            "[144]\tvalidation_0-merror:0.195623\tvalidation_1-merror:0.217677\n",
            "[145]\tvalidation_0-merror:0.19556\tvalidation_1-merror:0.217677\n",
            "[146]\tvalidation_0-merror:0.195034\tvalidation_1-merror:0.216751\n",
            "[147]\tvalidation_0-merror:0.194697\tvalidation_1-merror:0.217088\n",
            "[148]\tvalidation_0-merror:0.194213\tvalidation_1-merror:0.216835\n",
            "[149]\tvalidation_0-merror:0.194276\tvalidation_1-merror:0.216246\n",
            "[150]\tvalidation_0-merror:0.194129\tvalidation_1-merror:0.216077\n",
            "[151]\tvalidation_0-merror:0.194066\tvalidation_1-merror:0.217003\n",
            "[152]\tvalidation_0-merror:0.193455\tvalidation_1-merror:0.216751\n",
            "[153]\tvalidation_0-merror:0.193476\tvalidation_1-merror:0.216246\n",
            "[154]\tvalidation_0-merror:0.192887\tvalidation_1-merror:0.215993\n",
            "[155]\tvalidation_0-merror:0.192572\tvalidation_1-merror:0.215488\n",
            "[156]\tvalidation_0-merror:0.19274\tvalidation_1-merror:0.21532\n",
            "[157]\tvalidation_0-merror:0.192361\tvalidation_1-merror:0.215572\n",
            "[158]\tvalidation_0-merror:0.192256\tvalidation_1-merror:0.215993\n",
            "[159]\tvalidation_0-merror:0.191835\tvalidation_1-merror:0.216246\n",
            "[160]\tvalidation_0-merror:0.191456\tvalidation_1-merror:0.216077\n",
            "[161]\tvalidation_0-merror:0.191098\tvalidation_1-merror:0.215909\n",
            "[162]\tvalidation_0-merror:0.190909\tvalidation_1-merror:0.215572\n",
            "[163]\tvalidation_0-merror:0.190236\tvalidation_1-merror:0.215657\n",
            "[164]\tvalidation_0-merror:0.190025\tvalidation_1-merror:0.215909\n",
            "[165]\tvalidation_0-merror:0.189583\tvalidation_1-merror:0.215993\n",
            "[166]\tvalidation_0-merror:0.189415\tvalidation_1-merror:0.215825\n",
            "[167]\tvalidation_0-merror:0.189162\tvalidation_1-merror:0.215404\n",
            "[168]\tvalidation_0-merror:0.189141\tvalidation_1-merror:0.216246\n",
            "[169]\tvalidation_0-merror:0.189078\tvalidation_1-merror:0.216414\n",
            "[170]\tvalidation_0-merror:0.188657\tvalidation_1-merror:0.215909\n",
            "[171]\tvalidation_0-merror:0.188489\tvalidation_1-merror:0.215741\n",
            "[172]\tvalidation_0-merror:0.188384\tvalidation_1-merror:0.215741\n",
            "[173]\tvalidation_0-merror:0.188089\tvalidation_1-merror:0.214815\n",
            "[174]\tvalidation_0-merror:0.187984\tvalidation_1-merror:0.214478\n",
            "[175]\tvalidation_0-merror:0.1879\tvalidation_1-merror:0.214394\n",
            "[176]\tvalidation_0-merror:0.1879\tvalidation_1-merror:0.214394\n",
            "[177]\tvalidation_0-merror:0.187837\tvalidation_1-merror:0.21431\n",
            "[178]\tvalidation_0-merror:0.187269\tvalidation_1-merror:0.214394\n",
            "[179]\tvalidation_0-merror:0.187184\tvalidation_1-merror:0.214562\n",
            "[180]\tvalidation_0-merror:0.187079\tvalidation_1-merror:0.214478\n",
            "[181]\tvalidation_0-merror:0.1871\tvalidation_1-merror:0.214562\n",
            "[182]\tvalidation_0-merror:0.187016\tvalidation_1-merror:0.214478\n",
            "[183]\tvalidation_0-merror:0.186595\tvalidation_1-merror:0.214731\n",
            "[184]\tvalidation_0-merror:0.186574\tvalidation_1-merror:0.214478\n",
            "[185]\tvalidation_0-merror:0.186216\tvalidation_1-merror:0.214057\n",
            "[186]\tvalidation_0-merror:0.186069\tvalidation_1-merror:0.213805\n",
            "[187]\tvalidation_0-merror:0.185648\tvalidation_1-merror:0.213805\n",
            "[188]\tvalidation_0-merror:0.185711\tvalidation_1-merror:0.213805\n",
            "[189]\tvalidation_0-merror:0.185648\tvalidation_1-merror:0.214226\n",
            "[190]\tvalidation_0-merror:0.185017\tvalidation_1-merror:0.214226\n",
            "[191]\tvalidation_0-merror:0.184912\tvalidation_1-merror:0.214394\n",
            "[192]\tvalidation_0-merror:0.184764\tvalidation_1-merror:0.214478\n",
            "[193]\tvalidation_0-merror:0.184364\tvalidation_1-merror:0.213721\n",
            "[194]\tvalidation_0-merror:0.184743\tvalidation_1-merror:0.214141\n",
            "[195]\tvalidation_0-merror:0.184659\tvalidation_1-merror:0.21431\n",
            "[196]\tvalidation_0-merror:0.18407\tvalidation_1-merror:0.214562\n",
            "[197]\tvalidation_0-merror:0.183733\tvalidation_1-merror:0.214562\n",
            "[198]\tvalidation_0-merror:0.183565\tvalidation_1-merror:0.213721\n",
            "[199]\tvalidation_0-merror:0.183481\tvalidation_1-merror:0.214226\n",
            "[200]\tvalidation_0-merror:0.182828\tvalidation_1-merror:0.214983\n",
            "[201]\tvalidation_0-merror:0.182471\tvalidation_1-merror:0.215067\n",
            "[202]\tvalidation_0-merror:0.182386\tvalidation_1-merror:0.214983\n",
            "[203]\tvalidation_0-merror:0.182386\tvalidation_1-merror:0.214899\n",
            "[204]\tvalidation_0-merror:0.182155\tvalidation_1-merror:0.214562\n",
            "[205]\tvalidation_0-merror:0.182155\tvalidation_1-merror:0.214899\n",
            "[206]\tvalidation_0-merror:0.182029\tvalidation_1-merror:0.215152\n",
            "[207]\tvalidation_0-merror:0.181608\tvalidation_1-merror:0.214646\n",
            "[208]\tvalidation_0-merror:0.181313\tvalidation_1-merror:0.21431\n",
            "[209]\tvalidation_0-merror:0.180976\tvalidation_1-merror:0.214057\n",
            "[210]\tvalidation_0-merror:0.18045\tvalidation_1-merror:0.214057\n",
            "[211]\tvalidation_0-merror:0.180008\tvalidation_1-merror:0.213805\n",
            "[212]\tvalidation_0-merror:0.179798\tvalidation_1-merror:0.213889\n",
            "[213]\tvalidation_0-merror:0.179777\tvalidation_1-merror:0.214226\n",
            "[214]\tvalidation_0-merror:0.179672\tvalidation_1-merror:0.214226\n",
            "[215]\tvalidation_0-merror:0.179567\tvalidation_1-merror:0.213889\n",
            "[216]\tvalidation_0-merror:0.179567\tvalidation_1-merror:0.213468\n",
            "[217]\tvalidation_0-merror:0.179209\tvalidation_1-merror:0.213384\n",
            "[218]\tvalidation_0-merror:0.179272\tvalidation_1-merror:0.213552\n",
            "[219]\tvalidation_0-merror:0.179188\tvalidation_1-merror:0.213805\n",
            "[220]\tvalidation_0-merror:0.179293\tvalidation_1-merror:0.213215\n",
            "[221]\tvalidation_0-merror:0.179251\tvalidation_1-merror:0.213047\n",
            "[222]\tvalidation_0-merror:0.178872\tvalidation_1-merror:0.213805\n",
            "[223]\tvalidation_0-merror:0.178746\tvalidation_1-merror:0.213889\n",
            "[224]\tvalidation_0-merror:0.178746\tvalidation_1-merror:0.213889\n",
            "[225]\tvalidation_0-merror:0.178367\tvalidation_1-merror:0.213636\n",
            "[226]\tvalidation_0-merror:0.178241\tvalidation_1-merror:0.213384\n",
            "[227]\tvalidation_0-merror:0.177883\tvalidation_1-merror:0.213552\n",
            "[228]\tvalidation_0-merror:0.177799\tvalidation_1-merror:0.213215\n",
            "[229]\tvalidation_0-merror:0.17763\tvalidation_1-merror:0.212879\n",
            "[230]\tvalidation_0-merror:0.177336\tvalidation_1-merror:0.212879\n",
            "[231]\tvalidation_0-merror:0.177125\tvalidation_1-merror:0.212795\n",
            "[232]\tvalidation_0-merror:0.176894\tvalidation_1-merror:0.21271\n",
            "[233]\tvalidation_0-merror:0.176557\tvalidation_1-merror:0.212879\n",
            "[234]\tvalidation_0-merror:0.176515\tvalidation_1-merror:0.212542\n",
            "[235]\tvalidation_0-merror:0.176199\tvalidation_1-merror:0.212542\n",
            "[236]\tvalidation_0-merror:0.176242\tvalidation_1-merror:0.212205\n",
            "[237]\tvalidation_0-merror:0.175863\tvalidation_1-merror:0.212121\n",
            "[238]\tvalidation_0-merror:0.175652\tvalidation_1-merror:0.212795\n",
            "[239]\tvalidation_0-merror:0.175358\tvalidation_1-merror:0.21271\n",
            "[240]\tvalidation_0-merror:0.175042\tvalidation_1-merror:0.211953\n",
            "[241]\tvalidation_0-merror:0.175084\tvalidation_1-merror:0.212458\n",
            "[242]\tvalidation_0-merror:0.174874\tvalidation_1-merror:0.212542\n",
            "[243]\tvalidation_0-merror:0.174495\tvalidation_1-merror:0.21229\n",
            "[244]\tvalidation_0-merror:0.174348\tvalidation_1-merror:0.211532\n",
            "[245]\tvalidation_0-merror:0.174032\tvalidation_1-merror:0.212121\n",
            "[246]\tvalidation_0-merror:0.173527\tvalidation_1-merror:0.211785\n",
            "[247]\tvalidation_0-merror:0.173485\tvalidation_1-merror:0.211616\n",
            "[248]\tvalidation_0-merror:0.173253\tvalidation_1-merror:0.2117\n",
            "[249]\tvalidation_0-merror:0.173148\tvalidation_1-merror:0.211785\n",
            "[250]\tvalidation_0-merror:0.172748\tvalidation_1-merror:0.212121\n",
            "[251]\tvalidation_0-merror:0.172854\tvalidation_1-merror:0.212121\n",
            "[252]\tvalidation_0-merror:0.172769\tvalidation_1-merror:0.212121\n",
            "[253]\tvalidation_0-merror:0.17237\tvalidation_1-merror:0.211616\n",
            "[254]\tvalidation_0-merror:0.172391\tvalidation_1-merror:0.212037\n",
            "[255]\tvalidation_0-merror:0.171843\tvalidation_1-merror:0.212121\n",
            "[256]\tvalidation_0-merror:0.172033\tvalidation_1-merror:0.211027\n",
            "[257]\tvalidation_0-merror:0.171949\tvalidation_1-merror:0.211111\n",
            "[258]\tvalidation_0-merror:0.17178\tvalidation_1-merror:0.211448\n",
            "[259]\tvalidation_0-merror:0.171717\tvalidation_1-merror:0.211785\n",
            "[260]\tvalidation_0-merror:0.171528\tvalidation_1-merror:0.212121\n",
            "[261]\tvalidation_0-merror:0.171507\tvalidation_1-merror:0.211532\n",
            "[262]\tvalidation_0-merror:0.171444\tvalidation_1-merror:0.212121\n",
            "[263]\tvalidation_0-merror:0.17117\tvalidation_1-merror:0.212037\n",
            "[264]\tvalidation_0-merror:0.171002\tvalidation_1-merror:0.211785\n",
            "[265]\tvalidation_0-merror:0.170497\tvalidation_1-merror:0.211616\n",
            "[266]\tvalidation_0-merror:0.170412\tvalidation_1-merror:0.211448\n",
            "[267]\tvalidation_0-merror:0.170307\tvalidation_1-merror:0.212037\n",
            "[268]\tvalidation_0-merror:0.170013\tvalidation_1-merror:0.211616\n",
            "[269]\tvalidation_0-merror:0.170013\tvalidation_1-merror:0.211532\n",
            "[270]\tvalidation_0-merror:0.16976\tvalidation_1-merror:0.211364\n",
            "[271]\tvalidation_0-merror:0.16955\tvalidation_1-merror:0.211448\n",
            "[272]\tvalidation_0-merror:0.169465\tvalidation_1-merror:0.211279\n",
            "[273]\tvalidation_0-merror:0.169423\tvalidation_1-merror:0.210943\n",
            "[274]\tvalidation_0-merror:0.169255\tvalidation_1-merror:0.211111\n",
            "[275]\tvalidation_0-merror:0.169045\tvalidation_1-merror:0.211027\n",
            "[276]\tvalidation_0-merror:0.168876\tvalidation_1-merror:0.210774\n",
            "[277]\tvalidation_0-merror:0.16854\tvalidation_1-merror:0.211111\n",
            "[278]\tvalidation_0-merror:0.168413\tvalidation_1-merror:0.211195\n",
            "[279]\tvalidation_0-merror:0.168413\tvalidation_1-merror:0.211785\n",
            "[280]\tvalidation_0-merror:0.16835\tvalidation_1-merror:0.211195\n",
            "[281]\tvalidation_0-merror:0.168182\tvalidation_1-merror:0.2117\n",
            "[282]\tvalidation_0-merror:0.168077\tvalidation_1-merror:0.210774\n",
            "[283]\tvalidation_0-merror:0.168056\tvalidation_1-merror:0.210774\n",
            "[284]\tvalidation_0-merror:0.167908\tvalidation_1-merror:0.21069\n",
            "[285]\tvalidation_0-merror:0.167761\tvalidation_1-merror:0.211027\n",
            "[286]\tvalidation_0-merror:0.16774\tvalidation_1-merror:0.210859\n",
            "[287]\tvalidation_0-merror:0.167719\tvalidation_1-merror:0.210943\n",
            "[288]\tvalidation_0-merror:0.167635\tvalidation_1-merror:0.213721\n",
            "[289]\tvalidation_0-merror:0.167487\tvalidation_1-merror:0.214226\n",
            "[290]\tvalidation_0-merror:0.167298\tvalidation_1-merror:0.214478\n",
            "[291]\tvalidation_0-merror:0.166856\tvalidation_1-merror:0.213468\n",
            "[292]\tvalidation_0-merror:0.166646\tvalidation_1-merror:0.212963\n",
            "[293]\tvalidation_0-merror:0.166204\tvalidation_1-merror:0.212963\n",
            "[294]\tvalidation_0-merror:0.165888\tvalidation_1-merror:0.212626\n",
            "[295]\tvalidation_0-merror:0.165846\tvalidation_1-merror:0.212626\n",
            "[296]\tvalidation_0-merror:0.165551\tvalidation_1-merror:0.212879\n",
            "[297]\tvalidation_0-merror:0.165257\tvalidation_1-merror:0.212963\n",
            "[298]\tvalidation_0-merror:0.164899\tvalidation_1-merror:0.212374\n",
            "[299]\tvalidation_0-merror:0.164815\tvalidation_1-merror:0.212626\n",
            "[300]\tvalidation_0-merror:0.164289\tvalidation_1-merror:0.212542\n",
            "[301]\tvalidation_0-merror:0.16431\tvalidation_1-merror:0.212374\n",
            "[302]\tvalidation_0-merror:0.164247\tvalidation_1-merror:0.211953\n",
            "[303]\tvalidation_0-merror:0.164373\tvalidation_1-merror:0.212374\n",
            "[304]\tvalidation_0-merror:0.164226\tvalidation_1-merror:0.212374\n",
            "[305]\tvalidation_0-merror:0.163973\tvalidation_1-merror:0.212626\n",
            "[306]\tvalidation_0-merror:0.163742\tvalidation_1-merror:0.212542\n",
            "[307]\tvalidation_0-merror:0.163447\tvalidation_1-merror:0.212626\n",
            "[308]\tvalidation_0-merror:0.163194\tvalidation_1-merror:0.212795\n",
            "[309]\tvalidation_0-merror:0.163237\tvalidation_1-merror:0.21271\n",
            "[310]\tvalidation_0-merror:0.163194\tvalidation_1-merror:0.212542\n",
            "[311]\tvalidation_0-merror:0.162942\tvalidation_1-merror:0.212626\n",
            "[312]\tvalidation_0-merror:0.162879\tvalidation_1-merror:0.212374\n",
            "[313]\tvalidation_0-merror:0.162837\tvalidation_1-merror:0.212963\n",
            "[314]\tvalidation_0-merror:0.162795\tvalidation_1-merror:0.212963\n",
            "[315]\tvalidation_0-merror:0.162816\tvalidation_1-merror:0.212879\n",
            "[316]\tvalidation_0-merror:0.162837\tvalidation_1-merror:0.213131\n",
            "[317]\tvalidation_0-merror:0.162626\tvalidation_1-merror:0.212121\n",
            "[318]\tvalidation_0-merror:0.162521\tvalidation_1-merror:0.212205\n",
            "[319]\tvalidation_0-merror:0.162458\tvalidation_1-merror:0.212626\n",
            "[320]\tvalidation_0-merror:0.162163\tvalidation_1-merror:0.212037\n",
            "[321]\tvalidation_0-merror:0.161848\tvalidation_1-merror:0.212542\n",
            "[322]\tvalidation_0-merror:0.161953\tvalidation_1-merror:0.21271\n",
            "[323]\tvalidation_0-merror:0.161953\tvalidation_1-merror:0.21271\n",
            "[324]\tvalidation_0-merror:0.161827\tvalidation_1-merror:0.212458\n",
            "[325]\tvalidation_0-merror:0.161932\tvalidation_1-merror:0.21271\n",
            "[326]\tvalidation_0-merror:0.161827\tvalidation_1-merror:0.212963\n",
            "[327]\tvalidation_0-merror:0.161721\tvalidation_1-merror:0.212879\n",
            "[328]\tvalidation_0-merror:0.161637\tvalidation_1-merror:0.21271\n",
            "[329]\tvalidation_0-merror:0.161574\tvalidation_1-merror:0.21271\n",
            "[330]\tvalidation_0-merror:0.161385\tvalidation_1-merror:0.212458\n",
            "[331]\tvalidation_0-merror:0.161216\tvalidation_1-merror:0.21229\n",
            "[332]\tvalidation_0-merror:0.16109\tvalidation_1-merror:0.212374\n",
            "[333]\tvalidation_0-merror:0.161027\tvalidation_1-merror:0.212458\n",
            "[334]\tvalidation_0-merror:0.160943\tvalidation_1-merror:0.213889\n",
            "Stopping. Best iteration:\n",
            "[284]\tvalidation_0-merror:0.167908\tvalidation_1-merror:0.21069\n",
            "\n"
          ],
          "name": "stdout"
        },
        {
          "output_type": "execute_result",
          "data": {
            "text/plain": [
              "XGBClassifier(base_score=0.5, booster='gbtree', colsample_bylevel=1,\n",
              "              colsample_bynode=1, colsample_bytree=1, gamma=0,\n",
              "              learning_rate=0.5, max_delta_step=0, max_depth=3,\n",
              "              min_child_weight=1, missing=None, n_estimators=1000, n_jobs=-1,\n",
              "              nthread=None, objective='multi:softprob', random_state=0,\n",
              "              reg_alpha=0, reg_lambda=1, scale_pos_weight=1, seed=None,\n",
              "              silent=None, subsample=1, verbosity=1)"
            ]
          },
          "metadata": {
            "tags": []
          },
          "execution_count": 45
        }
      ]
    },
    {
      "cell_type": "markdown",
      "metadata": {
        "colab_type": "text",
        "id": "ZF7-ml6BhRRf"
      },
      "source": [
        "### Try adjusting these hyperparameters\n",
        "\n",
        "#### Random Forest\n",
        "- class_weight (for imbalanced classes)\n",
        "- max_depth (usually high, can try decreasing)\n",
        "- n_estimators (too low underfits, too high wastes time)\n",
        "- min_samples_leaf (increase if overfitting)\n",
        "- max_features (decrease for more diverse trees)\n",
        "\n",
        "#### Xgboost\n",
        "- scale_pos_weight (for imbalanced classes)\n",
        "- max_depth (usually low, can try increasing)\n",
        "- n_estimators (too low underfits, too high wastes time/overfits) — Use Early Stopping!\n",
        "- learning_rate (too low underfits, too high overfits)\n",
        "\n",
        "For more ideas, see [Notes on Parameter Tuning](https://xgboost.readthedocs.io/en/latest/tutorials/param_tuning.html) and [DART booster](https://xgboost.readthedocs.io/en/latest/tutorials/dart.html)."
      ]
    },
    {
      "cell_type": "markdown",
      "metadata": {
        "id": "cns4aYpMZhLZ",
        "colab_type": "text"
      },
      "source": [
        "## Challenge\n",
        "\n",
        "You will use your portfolio project dataset for all assignments this sprint. Complete these tasks for your project, and document your work.\n",
        "\n",
        "- Continue to clean and explore your data. Make exploratory visualizations.\n",
        "- Fit a model. Does it beat your baseline?\n",
        "- Try xgboost.\n",
        "- Get your model's permutation importances.\n",
        "\n",
        "You should try to complete an initial model today, because the rest of the week, we're making model interpretation visualizations.\n",
        "\n",
        "But, if you aren't ready to try xgboost and permutation importances with your dataset today, you can practice with another dataset instead. You may choose any dataset you've worked with previously."
      ]
    }
  ]
}